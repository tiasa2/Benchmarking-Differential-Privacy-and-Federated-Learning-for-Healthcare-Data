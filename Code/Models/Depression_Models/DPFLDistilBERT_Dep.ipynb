{
  "nbformat": 4,
  "nbformat_minor": 0,
  "metadata": {
    "colab": {
      "name": "DPFLDistilBERT_Dep.ipynb",
      "provenance": [],
      "collapsed_sections": [],
      "toc_visible": true
    },
    "kernelspec": {
      "name": "python3",
      "display_name": "Python 3"
    },
    "language_info": {
      "name": "python"
    },
    "accelerator": "GPU"
  },
  "cells": [
    {
      "cell_type": "code",
      "metadata": {
        "colab": {
          "base_uri": "https://localhost:8080/"
        },
        "id": "ZFcT_ttb3cxp",
        "outputId": "e11bc220-afda-4a26-b48b-ff04f4e122df"
      },
      "source": [
        "!pip3 install transformers"
      ],
      "execution_count": 1,
      "outputs": [
        {
          "output_type": "stream",
          "text": [
            "Requirement already satisfied: transformers in /usr/local/lib/python3.7/dist-packages (4.6.1)\n",
            "Requirement already satisfied: requests in /usr/local/lib/python3.7/dist-packages (from transformers) (2.25.1)\n",
            "Requirement already satisfied: sacremoses in /usr/local/lib/python3.7/dist-packages (from transformers) (0.0.45)\n",
            "Requirement already satisfied: importlib-metadata; python_version < \"3.8\" in /usr/local/lib/python3.7/dist-packages (from transformers) (4.0.1)\n",
            "Requirement already satisfied: numpy>=1.17 in /usr/local/lib/python3.7/dist-packages (from transformers) (1.19.5)\n",
            "Requirement already satisfied: filelock in /usr/local/lib/python3.7/dist-packages (from transformers) (3.0.12)\n",
            "Requirement already satisfied: huggingface-hub==0.0.8 in /usr/local/lib/python3.7/dist-packages (from transformers) (0.0.8)\n",
            "Requirement already satisfied: tqdm>=4.27 in /usr/local/lib/python3.7/dist-packages (from transformers) (4.41.1)\n",
            "Requirement already satisfied: regex!=2019.12.17 in /usr/local/lib/python3.7/dist-packages (from transformers) (2019.12.20)\n",
            "Requirement already satisfied: packaging in /usr/local/lib/python3.7/dist-packages (from transformers) (20.9)\n",
            "Requirement already satisfied: tokenizers<0.11,>=0.10.1 in /usr/local/lib/python3.7/dist-packages (from transformers) (0.10.3)\n",
            "Requirement already satisfied: idna<3,>=2.5 in /usr/local/lib/python3.7/dist-packages (from requests->transformers) (2.10)\n",
            "Requirement already satisfied: certifi>=2017.4.17 in /usr/local/lib/python3.7/dist-packages (from requests->transformers) (2020.12.5)\n",
            "Requirement already satisfied: chardet<5,>=3.0.2 in /usr/local/lib/python3.7/dist-packages (from requests->transformers) (3.0.4)\n",
            "Requirement already satisfied: urllib3<1.27,>=1.21.1 in /usr/local/lib/python3.7/dist-packages (from requests->transformers) (1.24.3)\n",
            "Requirement already satisfied: click in /usr/local/lib/python3.7/dist-packages (from sacremoses->transformers) (7.1.2)\n",
            "Requirement already satisfied: joblib in /usr/local/lib/python3.7/dist-packages (from sacremoses->transformers) (1.0.1)\n",
            "Requirement already satisfied: six in /usr/local/lib/python3.7/dist-packages (from sacremoses->transformers) (1.15.0)\n",
            "Requirement already satisfied: typing-extensions>=3.6.4; python_version < \"3.8\" in /usr/local/lib/python3.7/dist-packages (from importlib-metadata; python_version < \"3.8\"->transformers) (3.7.4.3)\n",
            "Requirement already satisfied: zipp>=0.5 in /usr/local/lib/python3.7/dist-packages (from importlib-metadata; python_version < \"3.8\"->transformers) (3.4.1)\n",
            "Requirement already satisfied: pyparsing>=2.0.2 in /usr/local/lib/python3.7/dist-packages (from packaging->transformers) (2.4.7)\n"
          ],
          "name": "stdout"
        }
      ]
    },
    {
      "cell_type": "code",
      "metadata": {
        "colab": {
          "base_uri": "https://localhost:8080/"
        },
        "id": "ba3BTfcVcg00",
        "outputId": "9b3a50fd-909a-4a2e-fc06-95bdead7ea7c"
      },
      "source": [
        "!pip install opacus"
      ],
      "execution_count": 2,
      "outputs": [
        {
          "output_type": "stream",
          "text": [
            "Requirement already satisfied: opacus in /usr/local/lib/python3.7/dist-packages (0.13.0)\n",
            "Requirement already satisfied: tqdm>=4.40 in /usr/local/lib/python3.7/dist-packages (from opacus) (4.41.1)\n",
            "Requirement already satisfied: torch>=1.3 in /usr/local/lib/python3.7/dist-packages (from opacus) (1.8.1+cu101)\n",
            "Requirement already satisfied: numpy>=1.15 in /usr/local/lib/python3.7/dist-packages (from opacus) (1.19.5)\n",
            "Requirement already satisfied: scipy>=1.2 in /usr/local/lib/python3.7/dist-packages (from opacus) (1.4.1)\n",
            "Requirement already satisfied: requests>=2.25.1 in /usr/local/lib/python3.7/dist-packages (from opacus) (2.25.1)\n",
            "Requirement already satisfied: torchvision>=0.9 in /usr/local/lib/python3.7/dist-packages (from opacus) (0.9.1+cu101)\n",
            "Requirement already satisfied: typing-extensions in /usr/local/lib/python3.7/dist-packages (from torch>=1.3->opacus) (3.7.4.3)\n",
            "Requirement already satisfied: idna<3,>=2.5 in /usr/local/lib/python3.7/dist-packages (from requests>=2.25.1->opacus) (2.10)\n",
            "Requirement already satisfied: urllib3<1.27,>=1.21.1 in /usr/local/lib/python3.7/dist-packages (from requests>=2.25.1->opacus) (1.24.3)\n",
            "Requirement already satisfied: certifi>=2017.4.17 in /usr/local/lib/python3.7/dist-packages (from requests>=2.25.1->opacus) (2020.12.5)\n",
            "Requirement already satisfied: chardet<5,>=3.0.2 in /usr/local/lib/python3.7/dist-packages (from requests>=2.25.1->opacus) (3.0.4)\n",
            "Requirement already satisfied: pillow>=4.1.1 in /usr/local/lib/python3.7/dist-packages (from torchvision>=0.9->opacus) (7.1.2)\n"
          ],
          "name": "stdout"
        }
      ]
    },
    {
      "cell_type": "code",
      "metadata": {
        "id": "mI_AcZbA20Ll"
      },
      "source": [
        "# Importing libraries\n",
        "import pandas as pd\n",
        "import torch\n",
        "import transformers\n",
        "from torch.utils.data import Dataset, DataLoader\n",
        "from transformers import DistilBertModel, DistilBertTokenizer\n",
        "import matplotlib.pyplot as plt\n",
        "from tqdm import tqdm\n",
        "import numpy as np\n",
        "import time\n",
        "import opacus\n",
        "from opacus import PrivacyEngine \n",
        "import copy\n",
        "import os\n",
        "import logging\n",
        "logging.basicConfig(level=logging.ERROR)"
      ],
      "execution_count": 3,
      "outputs": []
    },
    {
      "cell_type": "code",
      "metadata": {
        "id": "VGLPc0Pw4a_W"
      },
      "source": [
        "# Setting up GPU\n",
        "from torch import cuda\n",
        "device = 'cuda' if cuda.is_available() else 'cpu'"
      ],
      "execution_count": 4,
      "outputs": []
    },
    {
      "cell_type": "code",
      "metadata": {
        "colab": {
          "base_uri": "https://localhost:8080/"
        },
        "id": "0irUM9TyYRJN",
        "outputId": "23075725-3ebc-42d2-e333-bde317065e50"
      },
      "source": [
        "from google.colab import drive\n",
        "drive.mount('/content/drive', force_remount=True)"
      ],
      "execution_count": 5,
      "outputs": [
        {
          "output_type": "stream",
          "text": [
            "Mounted at /content/drive\n"
          ],
          "name": "stdout"
        }
      ]
    },
    {
      "cell_type": "code",
      "metadata": {
        "colab": {
          "base_uri": "https://localhost:8080/",
          "height": 204
        },
        "id": "qm3GRXFa3Hbl",
        "outputId": "ef08e9a6-c9c4-4a57-c791-ff63e518998e"
      },
      "source": [
        "df = pd.read_csv('/content/drive/My Drive/dep1_cleaned.csv')\n",
        "df.head()"
      ],
      "execution_count": 6,
      "outputs": [
        {
          "output_type": "execute_result",
          "data": {
            "text/html": [
              "<div>\n",
              "<style scoped>\n",
              "    .dataframe tbody tr th:only-of-type {\n",
              "        vertical-align: middle;\n",
              "    }\n",
              "\n",
              "    .dataframe tbody tr th {\n",
              "        vertical-align: top;\n",
              "    }\n",
              "\n",
              "    .dataframe thead th {\n",
              "        text-align: right;\n",
              "    }\n",
              "</style>\n",
              "<table border=\"1\" class=\"dataframe\">\n",
              "  <thead>\n",
              "    <tr style=\"text-align: right;\">\n",
              "      <th></th>\n",
              "      <th>Unnamed: 0</th>\n",
              "      <th>tweet</th>\n",
              "      <th>target</th>\n",
              "    </tr>\n",
              "  </thead>\n",
              "  <tbody>\n",
              "    <tr>\n",
              "      <th>0</th>\n",
              "      <td>0</td>\n",
              "      <td>Today in Selfcare: beauty ; laughs Kung Fu Pan...</td>\n",
              "      <td>0</td>\n",
              "    </tr>\n",
              "    <tr>\n",
              "      <th>1</th>\n",
              "      <td>1</td>\n",
              "      <td>I get to spend New Year's home again alone and...</td>\n",
              "      <td>1</td>\n",
              "    </tr>\n",
              "    <tr>\n",
              "      <th>2</th>\n",
              "      <td>2</td>\n",
              "      <td>Depressed and lonely /: Stuck in a deep, never...</td>\n",
              "      <td>1</td>\n",
              "    </tr>\n",
              "    <tr>\n",
              "      <th>3</th>\n",
              "      <td>3</td>\n",
              "      <td>If this is your response to someone saying the...</td>\n",
              "      <td>0</td>\n",
              "    </tr>\n",
              "    <tr>\n",
              "      <th>4</th>\n",
              "      <td>4</td>\n",
              "      <td>Apparently you get a free pass just by mention...</td>\n",
              "      <td>0</td>\n",
              "    </tr>\n",
              "  </tbody>\n",
              "</table>\n",
              "</div>"
            ],
            "text/plain": [
              "   Unnamed: 0                                              tweet  target\n",
              "0           0  Today in Selfcare: beauty ; laughs Kung Fu Pan...       0\n",
              "1           1  I get to spend New Year's home again alone and...       1\n",
              "2           2  Depressed and lonely /: Stuck in a deep, never...       1\n",
              "3           3  If this is your response to someone saying the...       0\n",
              "4           4  Apparently you get a free pass just by mention...       0"
            ]
          },
          "metadata": {
            "tags": []
          },
          "execution_count": 6
        }
      ]
    },
    {
      "cell_type": "markdown",
      "metadata": {
        "id": "1YhlneiEHzB8"
      },
      "source": [
        "##Partitioning"
      ]
    },
    {
      "cell_type": "markdown",
      "metadata": {
        "id": "EGWafcsLH11y"
      },
      "source": [
        "###IID"
      ]
    },
    {
      "cell_type": "code",
      "metadata": {
        "id": "rPIyHBVTFifB"
      },
      "source": [
        "def iid_partition(dataset, clients):\n",
        "  \"\"\"\n",
        "  I.I.D paritioning of data over clients\n",
        "  Shuffle the data\n",
        "  Split it between clients\n",
        "  \n",
        "  params:\n",
        "    - dataset (torch.utils.Dataset): Dataset containing the MNIST Images\n",
        "    - clients (int): Number of Clients to split the data between\n",
        "\n",
        "  returns:\n",
        "    - Dictionary of image indexes for each client\n",
        "  \"\"\"\n",
        "\n",
        "  num_items_per_client = int(len(dataset)/clients)\n",
        "  client_dict = {}\n",
        "  image_idxs = [i for i in range(len(dataset))]\n",
        "\n",
        "  for i in range(clients):\n",
        "    client_dict[i] = set(np.random.choice(image_idxs, num_items_per_client, replace=False))\n",
        "    image_idxs = list(set(image_idxs) - client_dict[i])\n",
        "\n",
        "  return client_dict"
      ],
      "execution_count": 7,
      "outputs": []
    },
    {
      "cell_type": "markdown",
      "metadata": {
        "id": "1hhMk0QAH4kr"
      },
      "source": [
        "###Non-IID"
      ]
    },
    {
      "cell_type": "code",
      "metadata": {
        "id": "8Vr78-GMFm9p"
      },
      "source": [
        "def non_iid_partition(dataset, clients, total_shards, shards_size, num_shards_per_client):\n",
        "  \"\"\"\n",
        "  non I.I.D parititioning of data over clients\n",
        "  Sort the data by the digit label\n",
        "  Divide the data into N shards of size S\n",
        "  Each of the clients will get X shards\n",
        "\n",
        "  params:\n",
        "    - dataset (torch.utils.Dataset): Dataset containing the MNIST Images\n",
        "    - clients (int): Number of Clients to split the data between\n",
        "    - total_shards (int): Number of shards to partition the data in\n",
        "    - shards_size (int): Size of each shard \n",
        "    - num_shards_per_client (int): Number of shards of size shards_size that each client receives\n",
        "\n",
        "  returns:\n",
        "    - Dictionary of image indexes for each client\n",
        "  \"\"\"\n",
        "  \n",
        "  shard_idxs = [i for i in range(total_shards)]\n",
        "  client_dict = {i: np.array([], dtype='int64') for i in range(clients)}\n",
        "  idxs = np.arange(len(dataset))\n",
        "  data_labels = dataset.get_labels()\n",
        "\n",
        "  # sort the labels\n",
        "  label_idxs = np.vstack((idxs, data_labels))\n",
        "  label_idxs = label_idxs[:, label_idxs[1,:].argsort()]\n",
        "  idxs = label_idxs[0,:]\n",
        "\n",
        "  # divide the data into total_shards of size shards_size\n",
        "  # assign num_shards_per_client to each client\n",
        "  for i in range(clients):\n",
        "    rand_set = set(np.random.choice(shard_idxs, num_shards_per_client, replace=False))\n",
        "    shard_idxs = list(set(shard_idxs) - rand_set)\n",
        "\n",
        "    for rand in rand_set:\n",
        "      client_dict[i] = np.concatenate((client_dict[i], idxs[rand*shards_size:(rand+1)*shards_size]), axis=0)\n",
        "  \n",
        "  return client_dict"
      ],
      "execution_count": 8,
      "outputs": []
    },
    {
      "cell_type": "code",
      "metadata": {
        "id": "oBavKNvISnMS"
      },
      "source": [
        ""
      ],
      "execution_count": 8,
      "outputs": []
    },
    {
      "cell_type": "markdown",
      "metadata": {
        "id": "MbYgMVAcTWXC"
      },
      "source": [
        "# MAIN"
      ]
    },
    {
      "cell_type": "markdown",
      "metadata": {
        "id": "NvHtHWHsT5E3"
      },
      "source": [
        "## MODELS"
      ]
    },
    {
      "cell_type": "code",
      "metadata": {
        "id": "d0zPlrdH4N1a"
      },
      "source": [
        "# Creating the customized model, by adding a drop out and a dense layer on top of distil bert to get the final output for the model. \n",
        "\n",
        "class DistillBERTClass(torch.nn.Module):\n",
        "    def __init__(self):\n",
        "        super(DistillBERTClass, self).__init__()\n",
        "        self.l1 = DistilBertModel.from_pretrained(\"distilbert-base-uncased\")\n",
        "        self.pre_classifier = torch.nn.Linear(768, 768)\n",
        "        self.dropout = torch.nn.Dropout(0.3)\n",
        "        self.classifier = torch.nn.Linear(768, 4)\n",
        "\n",
        "    def forward(self, input_ids, attention_mask):\n",
        "        output_1 = self.l1(input_ids=input_ids, attention_mask=attention_mask)\n",
        "        hidden_state = output_1[0]\n",
        "        pooler = hidden_state[:, 0]\n",
        "        pooler = self.pre_classifier(pooler)\n",
        "        pooler = torch.nn.ReLU()(pooler)\n",
        "        pooler = self.dropout(pooler)\n",
        "        output = self.classifier(pooler)\n",
        "        return output"
      ],
      "execution_count": 9,
      "outputs": []
    },
    {
      "cell_type": "code",
      "metadata": {
        "colab": {
          "base_uri": "https://localhost:8080/"
        },
        "id": "gPw39lMQ4P0l",
        "outputId": "fbf0e0dc-8ce8-4f99-aab6-24f3782308c2"
      },
      "source": [
        "model = DistillBERTClass()\n",
        "model.to(device)"
      ],
      "execution_count": 10,
      "outputs": [
        {
          "output_type": "stream",
          "text": [
            "Some weights of the model checkpoint at distilbert-base-uncased were not used when initializing DistilBertModel: ['vocab_transform.bias', 'vocab_projector.bias', 'vocab_transform.weight', 'vocab_layer_norm.bias', 'vocab_layer_norm.weight', 'vocab_projector.weight']\n",
            "- This IS expected if you are initializing DistilBertModel from the checkpoint of a model trained on another task or with another architecture (e.g. initializing a BertForSequenceClassification model from a BertForPreTraining model).\n",
            "- This IS NOT expected if you are initializing DistilBertModel from the checkpoint of a model that you expect to be exactly identical (initializing a BertForSequenceClassification model from a BertForSequenceClassification model).\n"
          ],
          "name": "stderr"
        },
        {
          "output_type": "execute_result",
          "data": {
            "text/plain": [
              "DistillBERTClass(\n",
              "  (l1): DistilBertModel(\n",
              "    (embeddings): Embeddings(\n",
              "      (word_embeddings): Embedding(30522, 768, padding_idx=0)\n",
              "      (position_embeddings): Embedding(512, 768)\n",
              "      (LayerNorm): LayerNorm((768,), eps=1e-12, elementwise_affine=True)\n",
              "      (dropout): Dropout(p=0.1, inplace=False)\n",
              "    )\n",
              "    (transformer): Transformer(\n",
              "      (layer): ModuleList(\n",
              "        (0): TransformerBlock(\n",
              "          (attention): MultiHeadSelfAttention(\n",
              "            (dropout): Dropout(p=0.1, inplace=False)\n",
              "            (q_lin): Linear(in_features=768, out_features=768, bias=True)\n",
              "            (k_lin): Linear(in_features=768, out_features=768, bias=True)\n",
              "            (v_lin): Linear(in_features=768, out_features=768, bias=True)\n",
              "            (out_lin): Linear(in_features=768, out_features=768, bias=True)\n",
              "          )\n",
              "          (sa_layer_norm): LayerNorm((768,), eps=1e-12, elementwise_affine=True)\n",
              "          (ffn): FFN(\n",
              "            (dropout): Dropout(p=0.1, inplace=False)\n",
              "            (lin1): Linear(in_features=768, out_features=3072, bias=True)\n",
              "            (lin2): Linear(in_features=3072, out_features=768, bias=True)\n",
              "          )\n",
              "          (output_layer_norm): LayerNorm((768,), eps=1e-12, elementwise_affine=True)\n",
              "        )\n",
              "        (1): TransformerBlock(\n",
              "          (attention): MultiHeadSelfAttention(\n",
              "            (dropout): Dropout(p=0.1, inplace=False)\n",
              "            (q_lin): Linear(in_features=768, out_features=768, bias=True)\n",
              "            (k_lin): Linear(in_features=768, out_features=768, bias=True)\n",
              "            (v_lin): Linear(in_features=768, out_features=768, bias=True)\n",
              "            (out_lin): Linear(in_features=768, out_features=768, bias=True)\n",
              "          )\n",
              "          (sa_layer_norm): LayerNorm((768,), eps=1e-12, elementwise_affine=True)\n",
              "          (ffn): FFN(\n",
              "            (dropout): Dropout(p=0.1, inplace=False)\n",
              "            (lin1): Linear(in_features=768, out_features=3072, bias=True)\n",
              "            (lin2): Linear(in_features=3072, out_features=768, bias=True)\n",
              "          )\n",
              "          (output_layer_norm): LayerNorm((768,), eps=1e-12, elementwise_affine=True)\n",
              "        )\n",
              "        (2): TransformerBlock(\n",
              "          (attention): MultiHeadSelfAttention(\n",
              "            (dropout): Dropout(p=0.1, inplace=False)\n",
              "            (q_lin): Linear(in_features=768, out_features=768, bias=True)\n",
              "            (k_lin): Linear(in_features=768, out_features=768, bias=True)\n",
              "            (v_lin): Linear(in_features=768, out_features=768, bias=True)\n",
              "            (out_lin): Linear(in_features=768, out_features=768, bias=True)\n",
              "          )\n",
              "          (sa_layer_norm): LayerNorm((768,), eps=1e-12, elementwise_affine=True)\n",
              "          (ffn): FFN(\n",
              "            (dropout): Dropout(p=0.1, inplace=False)\n",
              "            (lin1): Linear(in_features=768, out_features=3072, bias=True)\n",
              "            (lin2): Linear(in_features=3072, out_features=768, bias=True)\n",
              "          )\n",
              "          (output_layer_norm): LayerNorm((768,), eps=1e-12, elementwise_affine=True)\n",
              "        )\n",
              "        (3): TransformerBlock(\n",
              "          (attention): MultiHeadSelfAttention(\n",
              "            (dropout): Dropout(p=0.1, inplace=False)\n",
              "            (q_lin): Linear(in_features=768, out_features=768, bias=True)\n",
              "            (k_lin): Linear(in_features=768, out_features=768, bias=True)\n",
              "            (v_lin): Linear(in_features=768, out_features=768, bias=True)\n",
              "            (out_lin): Linear(in_features=768, out_features=768, bias=True)\n",
              "          )\n",
              "          (sa_layer_norm): LayerNorm((768,), eps=1e-12, elementwise_affine=True)\n",
              "          (ffn): FFN(\n",
              "            (dropout): Dropout(p=0.1, inplace=False)\n",
              "            (lin1): Linear(in_features=768, out_features=3072, bias=True)\n",
              "            (lin2): Linear(in_features=3072, out_features=768, bias=True)\n",
              "          )\n",
              "          (output_layer_norm): LayerNorm((768,), eps=1e-12, elementwise_affine=True)\n",
              "        )\n",
              "        (4): TransformerBlock(\n",
              "          (attention): MultiHeadSelfAttention(\n",
              "            (dropout): Dropout(p=0.1, inplace=False)\n",
              "            (q_lin): Linear(in_features=768, out_features=768, bias=True)\n",
              "            (k_lin): Linear(in_features=768, out_features=768, bias=True)\n",
              "            (v_lin): Linear(in_features=768, out_features=768, bias=True)\n",
              "            (out_lin): Linear(in_features=768, out_features=768, bias=True)\n",
              "          )\n",
              "          (sa_layer_norm): LayerNorm((768,), eps=1e-12, elementwise_affine=True)\n",
              "          (ffn): FFN(\n",
              "            (dropout): Dropout(p=0.1, inplace=False)\n",
              "            (lin1): Linear(in_features=768, out_features=3072, bias=True)\n",
              "            (lin2): Linear(in_features=3072, out_features=768, bias=True)\n",
              "          )\n",
              "          (output_layer_norm): LayerNorm((768,), eps=1e-12, elementwise_affine=True)\n",
              "        )\n",
              "        (5): TransformerBlock(\n",
              "          (attention): MultiHeadSelfAttention(\n",
              "            (dropout): Dropout(p=0.1, inplace=False)\n",
              "            (q_lin): Linear(in_features=768, out_features=768, bias=True)\n",
              "            (k_lin): Linear(in_features=768, out_features=768, bias=True)\n",
              "            (v_lin): Linear(in_features=768, out_features=768, bias=True)\n",
              "            (out_lin): Linear(in_features=768, out_features=768, bias=True)\n",
              "          )\n",
              "          (sa_layer_norm): LayerNorm((768,), eps=1e-12, elementwise_affine=True)\n",
              "          (ffn): FFN(\n",
              "            (dropout): Dropout(p=0.1, inplace=False)\n",
              "            (lin1): Linear(in_features=768, out_features=3072, bias=True)\n",
              "            (lin2): Linear(in_features=3072, out_features=768, bias=True)\n",
              "          )\n",
              "          (output_layer_norm): LayerNorm((768,), eps=1e-12, elementwise_affine=True)\n",
              "        )\n",
              "      )\n",
              "    )\n",
              "  )\n",
              "  (pre_classifier): Linear(in_features=768, out_features=768, bias=True)\n",
              "  (dropout): Dropout(p=0.3, inplace=False)\n",
              "  (classifier): Linear(in_features=768, out_features=4, bias=True)\n",
              ")"
            ]
          },
          "metadata": {
            "tags": []
          },
          "execution_count": 10
        }
      ]
    },
    {
      "cell_type": "code",
      "metadata": {
        "colab": {
          "base_uri": "https://localhost:8080/"
        },
        "id": "6xKTgsPkDnSW",
        "outputId": "42229f86-75c2-40c3-9bdb-59eaf8d44b94"
      },
      "source": [
        "trainable_layers = [model.pre_classifier, model.classifier]\n",
        "total_params = 0\n",
        "trainable_params = 0\n",
        "\n",
        "for p in model.parameters():\n",
        "        p.requires_grad = False\n",
        "        total_params += p.numel()\n",
        "\n",
        "for layer in trainable_layers:\n",
        "    for p in layer.parameters():\n",
        "        p.requires_grad = True\n",
        "        trainable_params += p.numel()\n",
        "\n",
        "print(f\"Total parameters count: {total_params}\") # ~125M\n",
        "print(f\"Trainable parameters count: {trainable_params}\") # ~0.5M"
      ],
      "execution_count": 11,
      "outputs": [
        {
          "output_type": "stream",
          "text": [
            "Total parameters count: 66956548\n",
            "Trainable parameters count: 593668\n"
          ],
          "name": "stdout"
        }
      ]
    },
    {
      "cell_type": "code",
      "metadata": {
        "id": "eJYVU02b4DjQ"
      },
      "source": [
        "#Initialization\n",
        "MAX_LEN = 256\n",
        "TRAIN_BATCH_SIZE = 8\n",
        "VALID_BATCH_SIZE = 2\n",
        "#EPOCHS = 10\n",
        "LEARNING_RATE = 1e-05\n",
        "LOGGING_INTERVAL = 100 # once every how many steps we run evaluation cycle and report metrics\n",
        " # Parameter for privacy accounting. Probability of not achieving privacy guarantees\n",
        "tokenizer = DistilBertTokenizer.from_pretrained('distilbert-base-cased')"
      ],
      "execution_count": 12,
      "outputs": []
    },
    {
      "cell_type": "code",
      "metadata": {
        "id": "oOV8C2S54FXw"
      },
      "source": [
        "#The class is defined to accept the Dataframe as input and generate tokenized output that is used by the DistilBERT model for training.\n",
        "#The tokenizer uses the encode_plus method to perform tokenization and generate the necessary outputs, namely: ids, attention_mask\n",
        "class Triage(Dataset):\n",
        "    def __init__(self, dataframe, tokenizer, max_len):\n",
        "        self.len = len(dataframe)\n",
        "        self.data = dataframe\n",
        "        self.tokenizer = tokenizer\n",
        "        self.max_len = max_len\n",
        "\n",
        "    def get_labels(self):\n",
        "        l=[]\n",
        "        for i in range(self.len):\n",
        "          title = str(self.data.tweet[i])\n",
        "          title = \" \".join(title.split())\n",
        "          inputs = self.tokenizer.encode_plus(\n",
        "              title,\n",
        "              None,\n",
        "              add_special_tokens=True,\n",
        "              max_length=self.max_len,\n",
        "              padding='max_length',\n",
        "              return_token_type_ids=True,\n",
        "              truncation=True\n",
        "          )\n",
        "\n",
        "          l.append(self.data.target[i])\n",
        "\n",
        "        return l\n",
        "\n",
        "\n",
        "\n",
        "        \n",
        "    def __getitem__(self, index):\n",
        "        title = str(self.data.tweet[index])\n",
        "        title = \" \".join(title.split())\n",
        "        inputs = self.tokenizer.encode_plus(\n",
        "            title,\n",
        "            None,\n",
        "            add_special_tokens=True,\n",
        "            max_length=self.max_len,\n",
        "            padding='max_length',\n",
        "            return_token_type_ids=True,\n",
        "            truncation=True\n",
        "        )\n",
        "        ids = inputs['input_ids']\n",
        "        mask = inputs['attention_mask']\n",
        "\n",
        "        return {\n",
        "            'ids': torch.tensor(ids, dtype=torch.long),\n",
        "            'mask': torch.tensor(mask, dtype=torch.long),\n",
        "            'targets': torch.tensor(self.data.target[index], dtype=torch.long)\n",
        "        } \n",
        "    \n",
        "    def __len__(self):\n",
        "        return self.len"
      ],
      "execution_count": 13,
      "outputs": []
    },
    {
      "cell_type": "code",
      "metadata": {
        "id": "_eIAvHupTiBO"
      },
      "source": [
        "class CustomDataset(Dataset):\n",
        "  def __init__(self, dataset, tokenizer, max_len, idxs):\n",
        "      self.data = dataset\n",
        "      self.idxs = list(idxs)\n",
        "      self.text = dataset.tweet\n",
        "      self.tokenizer = tokenizer\n",
        "      self.max_len = max_len\n",
        "      self.targets = self.data.target\n",
        "      \n",
        "  # def __init__(self, dataset, idxs):\n",
        "  #     self.dataset = dataset\n",
        "  #     self.idxs = list(idxs)\n",
        "\n",
        "  def __len__(self):\n",
        "      return len(self.idxs)\n",
        "\n",
        "  def __getitem__(self, index):\n",
        "      text = str(self.text[index])\n",
        "      text = \" \".join(text.split())\n",
        "\n",
        "      inputs = self.tokenizer.encode_plus(\n",
        "          text,\n",
        "          None,\n",
        "          add_special_tokens=True,\n",
        "          max_length=self.max_len,\n",
        "          pad_to_max_length=True,\n",
        "          return_token_type_ids=True\n",
        "      )\n",
        "      ids = inputs['input_ids']\n",
        "      mask = inputs['attention_mask']\n",
        "      #token_type_ids = inputs[\"token_type_ids\"]\n",
        "\n",
        "\n",
        "      return {\n",
        "          'ids': torch.tensor(ids, dtype=torch.long),\n",
        "          'mask': torch.tensor(mask, dtype=torch.long),\n",
        "          #'token_type_ids': torch.tensor(token_type_ids, dtype=torch.long),\n",
        "          'targets': torch.tensor(self.targets[index], dtype=torch.float)\n",
        "      }\n",
        "\n",
        "class ClientUpdate(object):\n",
        "  def __init__(self, dataset, model, tokenizer, loss_function, optimizer, idxs, epochs, MAX_LEN=256):\n",
        "    self.train_loader = DataLoader(CustomDataset(dataset, tokenizer, MAX_LEN, idxs), batch_size=8, shuffle=True)\n",
        "    self.model = model\n",
        "    self.dataset = dataset\n",
        "    self.loss_function = loss_function\n",
        "    self.optimizer = optimizer\n",
        "    self.epochs = epochs\n",
        "\n",
        "  # Function to calcuate the accuracy of the model\n",
        "\n",
        "  def calcuate_accu(self, big_idx, targets):\n",
        "    n_correct = (big_idx==targets).sum().item()\n",
        "    return n_correct\n",
        "\n",
        "  def train(self):\n",
        "\n",
        "    epochloss, epochacc = [], []\n",
        "\n",
        "    for epoch in range(1, self.epochs+1):\n",
        "      tr_loss = 0\n",
        "      n_correct = 0\n",
        "      nb_tr_steps = 0\n",
        "      nb_tr_examples = 0\n",
        "      losses = []\n",
        "      model.train()\n",
        "      for _,data in tqdm(enumerate(training_loader, 0)):\n",
        "          ids = data['ids'].to(device, dtype = torch.long)\n",
        "          mask = data['mask'].to(device, dtype = torch.long)\n",
        "          #token_type_ids = data['token_type_ids'].to(device, dtype = torch.long)\n",
        "          targets = data['targets'].to(device, dtype = torch.long)\n",
        "\n",
        "          outputs = model(ids, mask)\n",
        "          loss = loss_function(outputs, targets)\n",
        "          tr_loss += loss.item()\n",
        "          big_val, big_idx = torch.max(outputs.data, dim=1)\n",
        "          n_correct += self.calcuate_accu(big_idx, targets)\n",
        "\n",
        "          nb_tr_steps += 1\n",
        "          nb_tr_examples+=targets.size(0)\n",
        "          \n",
        "          if _%2000==0:\n",
        "              loss_step = tr_loss/nb_tr_steps\n",
        "              accu_step = (n_correct*100)/nb_tr_examples \n",
        "              print(f\"Training Loss per 5000 steps: {loss_step}\")\n",
        "              print(f\"Training Accuracy per 5000 steps: {accu_step}\")\n",
        "\n",
        "          self.optimizer.zero_grad()\n",
        "          loss.backward()\n",
        "          losses.append(loss.item())\n",
        "          # # When using GPU\n",
        "          if (_ + 1) % 2000 == 0 or _ == len(training_loader) - 1:\n",
        "              self.optimizer.step()\n",
        "          else:\n",
        "              self.optimizer.virtual_step()\n",
        "\n",
        "          if _ > 0 and _ % 2000 == 0:\n",
        "                train_loss = np.mean(losses)\n",
        "                eps, alpha = self.optimizer.privacy_engine.get_privacy_spent(DELTA)\n",
        "\n",
        "                eval_accuracy,eval_loss = valid(model, testing_loader)\n",
        "\n",
        "                print(\n",
        "                    f\"Epoch: {epoch} | \"\n",
        "                    f\"Step: {_} | \"\n",
        "                    f\"Train loss: {train_loss:.3f} | \"\n",
        "                    f\"Eval loss: {eval_loss:.3f} | \"\n",
        "                    f\"Eval accuracy: {eval_accuracy:.3f} | \"\n",
        "                    f\"ɛ: {eps:.2f} (α: {alpha})\"\n",
        "                )\n",
        "\n",
        "          \n",
        "      print(f'The Total Accuracy for Epoch {epoch}: {(n_correct*100)/nb_tr_examples}')\n",
        "      epoch_loss = tr_loss/nb_tr_steps\n",
        "      epoch_accu = (n_correct*100)/nb_tr_examples\n",
        "      print(f\"Training Loss Epoch: {epoch_loss}\")\n",
        "      print(f\"Training Accuracy Epoch: {epoch_accu}\")\n",
        "      epochacc.append(epoch_accu)\n",
        "      epochloss.append(epoch_loss)\n",
        "\n",
        "\n",
        "    return model.state_dict(), epochacc[-1], epochloss[-1]"
      ],
      "execution_count": 14,
      "outputs": []
    },
    {
      "cell_type": "code",
      "metadata": {
        "id": "NC6o9ggzVCNW"
      },
      "source": [
        "def training(model, rounds, ds, data_dict, loss_function, lr, C, K, E,plt_color):\n",
        "  \"\"\"\n",
        "  Function implements the Federated Averaging Algorithm from the FedAvg paper.\n",
        "  Specifically, this function is used for the server side training and weight update\n",
        "\n",
        "  Params:\n",
        "    - model:           PyTorch model to train\n",
        "    - rounds:          Number of communication rounds for the client update\n",
        "    - batch_size:      Batch size for client update training\n",
        "    - lr:              Learning rate used for client update training\n",
        "    - ds:              Dataset used for training\n",
        "    - data_dict:       Type of data partition used for training (IID or non-IID)\n",
        "    - C:               Fraction of clients randomly chosen to perform computation on each round\n",
        "    - K:               Total number of clients\n",
        "    - E:               Number of training passes each client makes over its local dataset per round\n",
        "    - tb_writer_name:  Directory name to save the tensorboard logs\n",
        "  Returns:\n",
        "    - model:           Trained model on the server\n",
        "  \"\"\"\n",
        "\n",
        "  # global model weights\n",
        "  global_weights = model.state_dict()\n",
        "\n",
        "  # training loss\n",
        "  train_loss,train_acc = [], []\n",
        "  \n",
        "  optimizer = torch.optim.AdamW(params =  model.parameters(), lr=lr)\n",
        "  \n",
        "  # measure time\n",
        "  start = time.time()\n",
        "\n",
        "  LOGGING_INTERVAL = 100 # once every how many steps we run evaluation cycle and report metrics\n",
        "  EPSILON = 0.5\n",
        "  DELTA = 1 / len(training_set) # Parameter for privacy accounting. Probability of not achieving privacy guarantees\n",
        "\n",
        "  SAMPLE_RATE = 8/len(ds)\n",
        "  MAX_GRAD_NORM = 0.1\n",
        "  VIRTUAL_BATCH_SIZE = 32\n",
        "  assert VIRTUAL_BATCH_SIZE % 8 == 0 # VIRTUAL_BATCH_SIZE should be divisible by BATCH_SIZE\n",
        "  N_ACCUMULATION_STEPS = int(VIRTUAL_BATCH_SIZE / 8)\n",
        "\n",
        "  privacy_engine = PrivacyEngine(\n",
        "      module=model,\n",
        "      sample_rate=SAMPLE_RATE * N_ACCUMULATION_STEPS,\n",
        "      target_delta = DELTA,\n",
        "      target_epsilon = EPSILON, \n",
        "      epochs = E,\n",
        "      max_grad_norm=MAX_GRAD_NORM,\n",
        "  )\n",
        "\n",
        "  privacy_engine.attach(optimizer)\n",
        "    \n",
        "\n",
        "  for curr_round in range(1, rounds+1):\n",
        "    w, local_loss,local_acc = [], [], []\n",
        "\n",
        "    m = max(int(C*K), 1)\n",
        "    \n",
        "    S_t = np.random.choice(range(K), m, replace=False)\n",
        "    for k in S_t:\n",
        "      local_update = ClientUpdate(dataset=ds, model=model, tokenizer=tokenizer, loss_function=loss_function, \\\n",
        "                                  optimizer=optimizer, epochs=E, idxs=data_dict[k])\n",
        "      weights, acc, loss = local_update.train()\n",
        "\n",
        "      w.append(copy.deepcopy(weights))\n",
        "      local_loss.append(copy.deepcopy(loss))\n",
        "      local_acc.append(copy.deepcopy(acc))\n",
        "\n",
        "    # updating the global weights\n",
        "    weights_avg = copy.deepcopy(w[0])\n",
        "    for k in weights_avg.keys():\n",
        "      for i in range(1, len(w)):\n",
        "        weights_avg[k] += w[i][k]\n",
        "\n",
        "      weights_avg[k] = torch.div(weights_avg[k], len(w))\n",
        "\n",
        "    global_weights = weights_avg\n",
        "\n",
        "    # move the updated weights to our model state dict\n",
        "    model.load_state_dict(global_weights)\n",
        "\n",
        "    # loss\n",
        "    loss_avg = sum(local_loss) / len(local_loss)\n",
        "    acc_avg = sum(local_acc) / len(local_acc)\n",
        "    print('Round: {}... \\tAverage Loss: {}'.format(curr_round, round(loss_avg, 3)))\n",
        "    print('Round: {}... \\tAverage Accuracy: {}'.format(curr_round, round(acc_avg, 3)))\n",
        "    train_loss.append(loss_avg)\n",
        "    train_acc.append(acc_avg)\n",
        "\n",
        "  end = time.time()\n",
        "  \n",
        "  fig, ax = plt.subplots()\n",
        "  x_axis = np.arange(1, rounds+1)\n",
        "  # y_axis = np.array(train_loss)\n",
        "  # ax.plot(x_axis, y_axis, 'tab:'+plt_color)\n",
        "\n",
        "  # ax.set(xlabel='Number of Rounds', ylabel='Train Loss',\n",
        "  #      title=\"Training Loss\")\n",
        "  \n",
        "  y_axis = np.array(train_acc)\n",
        "  ax.plot(x_axis, y_axis, 'tab:'+plt_color)\n",
        "\n",
        "  ax.set(xlabel='Number of Rounds', ylabel='Train Accuracy',\n",
        "       title=\"Training Accuracy vs. Global rounds\")\n",
        "  ax.grid()\n",
        "  #fig.savefig(plt_title+'.jpg', format='jpg')\n",
        "  print(\"Training Done!\")\n",
        "  print(\"Total time taken to Train: {}\".format(end-start))\n",
        "  \n",
        "  return model,train_acc"
      ],
      "execution_count": 15,
      "outputs": []
    },
    {
      "cell_type": "code",
      "metadata": {
        "colab": {
          "base_uri": "https://localhost:8080/"
        },
        "id": "dfPQekmI4JCv",
        "outputId": "45de947e-b1fe-4dc6-a8a6-410b63e63058"
      },
      "source": [
        "# Creating the dataset and dataloader for the neural network\n",
        "\n",
        "train_size = 0.8\n",
        "train_dataset=df.sample(frac=train_size,random_state=200)\n",
        "test_dataset=df.drop(train_dataset.index).reset_index(drop=True)\n",
        "train_dataset = train_dataset.reset_index(drop=True)\n",
        "\n",
        "\n",
        "print(\"FULL Dataset: {}\".format(df.shape))\n",
        "print(\"TRAIN Dataset: {}\".format(train_dataset.shape))\n",
        "print(\"TEST Dataset: {}\".format(test_dataset.shape))\n",
        "\n",
        "training_set = Triage(train_dataset, tokenizer, MAX_LEN)\n",
        "testing_set = Triage(test_dataset, tokenizer, MAX_LEN)"
      ],
      "execution_count": 16,
      "outputs": [
        {
          "output_type": "stream",
          "text": [
            "FULL Dataset: (3096, 3)\n",
            "TRAIN Dataset: (2477, 3)\n",
            "TEST Dataset: (619, 3)\n"
          ],
          "name": "stdout"
        }
      ]
    },
    {
      "cell_type": "code",
      "metadata": {
        "id": "4DIl0v0P4Lss"
      },
      "source": [
        "train_params = {'batch_size': TRAIN_BATCH_SIZE,\n",
        "                'shuffle': True,\n",
        "                'num_workers': 0\n",
        "                }\n",
        "\n",
        "test_params = {'batch_size': VALID_BATCH_SIZE,\n",
        "                'shuffle': True,\n",
        "                'num_workers': 0\n",
        "                }\n",
        "\n",
        "training_loader = DataLoader(training_set, **train_params)\n",
        "testing_loader = DataLoader(testing_set, **test_params)"
      ],
      "execution_count": 17,
      "outputs": []
    },
    {
      "cell_type": "code",
      "metadata": {
        "colab": {
          "base_uri": "https://localhost:8080/",
          "height": 1000
        },
        "id": "zW4QTZ4Xtb9e",
        "outputId": "b64ff8d0-04bc-400b-c556-ece9ffb6d452"
      },
      "source": [
        "# number of training rounds\n",
        "rounds = 3\n",
        "# client fraction\n",
        "C = 0.5\n",
        "# number of clients\n",
        "K = 10\n",
        "# number of training passes on local dataset for each round\n",
        "E = 3\n",
        "# batch size\n",
        "batch_size = 10\n",
        "# learning Rate\n",
        "lr=1e-05\n",
        "# dict containing different type of data partition\n",
        "data_dict = iid_partition(training_set, 10)\n",
        "d={}\n",
        "\n",
        "loss_function = torch.nn.CrossEntropyLoss()\n",
        "\n",
        "if torch.cuda.is_available():\n",
        "  model.cuda()\n",
        "\n",
        "distilbert_iid_trained,train_acc = training(model, rounds, train_dataset, data_dict, loss_function, lr, C, K, E, \"orange\")"
      ],
      "execution_count": 18,
      "outputs": [
        {
          "output_type": "stream",
          "text": [
            "/usr/local/lib/python3.7/dist-packages/opacus/privacy_engine.py:523: UserWarning: A ``sample_rate`` has been provided.Thus, the provided ``batch_size``and ``sample_size`` will be ignored.\n",
            "  \"A ``sample_rate`` has been provided.\"\n",
            "/usr/local/lib/python3.7/dist-packages/opacus/privacy_engine.py:195: UserWarning: Secure RNG turned off. This is perfectly fine for experimentation as it allows for much faster training performance, but remember to turn it on and retrain one last time before production with ``secure_rng`` turned on.\n",
            "  \"Secure RNG turned off. This is perfectly fine for experimentation as it allows \"\n",
            "0it [00:00, ?it/s]/usr/local/lib/python3.7/dist-packages/torch/nn/modules/module.py:795: UserWarning: Using a non-full backward hook when the forward contains multiple autograd Nodes is deprecated and will be removed in future versions. This hook will be missing some grad_input. Please use register_full_backward_hook to get the documented behavior.\n",
            "  warnings.warn(\"Using a non-full backward hook when the forward contains multiple autograd Nodes \"\n",
            "3it [00:00, 10.00it/s]"
          ],
          "name": "stderr"
        },
        {
          "output_type": "stream",
          "text": [
            "Training Loss per 5000 steps: 1.3468098640441895\n",
            "Training Accuracy per 5000 steps: 37.5\n"
          ],
          "name": "stdout"
        },
        {
          "output_type": "stream",
          "text": [
            "310it [00:19, 15.69it/s]\n",
            "2it [00:00, 16.21it/s]"
          ],
          "name": "stderr"
        },
        {
          "output_type": "stream",
          "text": [
            "The Total Accuracy for Epoch 1: 44.65078724263222\n",
            "Training Loss Epoch: 1.338709472456286\n",
            "Training Accuracy Epoch: 44.65078724263222\n",
            "Training Loss per 5000 steps: 1.3851182460784912\n",
            "Training Accuracy per 5000 steps: 25.0\n"
          ],
          "name": "stdout"
        },
        {
          "output_type": "stream",
          "text": [
            "310it [00:20, 15.41it/s]\n",
            "2it [00:00, 15.49it/s]"
          ],
          "name": "stderr"
        },
        {
          "output_type": "stream",
          "text": [
            "The Total Accuracy for Epoch 2: 45.538958417440455\n",
            "Training Loss Epoch: 1.3409768396808255\n",
            "Training Accuracy Epoch: 45.538958417440455\n",
            "Training Loss per 5000 steps: 1.3793436288833618\n",
            "Training Accuracy per 5000 steps: 25.0\n"
          ],
          "name": "stdout"
        },
        {
          "output_type": "stream",
          "text": [
            "310it [00:20, 15.03it/s]\n",
            "2it [00:00, 15.26it/s]"
          ],
          "name": "stderr"
        },
        {
          "output_type": "stream",
          "text": [
            "The Total Accuracy for Epoch 3: 46.42712959224869\n",
            "Training Loss Epoch: 1.3381054347561252\n",
            "Training Accuracy Epoch: 46.42712959224869\n",
            "Training Loss per 5000 steps: 1.3250280618667603\n",
            "Training Accuracy per 5000 steps: 75.0\n"
          ],
          "name": "stdout"
        },
        {
          "output_type": "stream",
          "text": [
            "310it [00:21, 14.68it/s]\n",
            "2it [00:00, 14.91it/s]"
          ],
          "name": "stderr"
        },
        {
          "output_type": "stream",
          "text": [
            "The Total Accuracy for Epoch 1: 45.21598708114655\n",
            "Training Loss Epoch: 1.3403328353358854\n",
            "Training Accuracy Epoch: 45.21598708114655\n",
            "Training Loss per 5000 steps: 1.3361330032348633\n",
            "Training Accuracy per 5000 steps: 50.0\n"
          ],
          "name": "stdout"
        },
        {
          "output_type": "stream",
          "text": [
            "310it [00:21, 14.51it/s]\n",
            "2it [00:00, 14.96it/s]"
          ],
          "name": "stderr"
        },
        {
          "output_type": "stream",
          "text": [
            "The Total Accuracy for Epoch 2: 44.48930157448527\n",
            "Training Loss Epoch: 1.3396317997286398\n",
            "Training Accuracy Epoch: 44.48930157448527\n",
            "Training Loss per 5000 steps: 1.3506795167922974\n",
            "Training Accuracy per 5000 steps: 37.5\n"
          ],
          "name": "stdout"
        },
        {
          "output_type": "stream",
          "text": [
            "310it [00:21, 14.74it/s]\n",
            "2it [00:00, 15.36it/s]"
          ],
          "name": "stderr"
        },
        {
          "output_type": "stream",
          "text": [
            "The Total Accuracy for Epoch 3: 44.69115865966896\n",
            "Training Loss Epoch: 1.3387860075120004\n",
            "Training Accuracy Epoch: 44.69115865966896\n",
            "Training Loss per 5000 steps: 1.3730428218841553\n",
            "Training Accuracy per 5000 steps: 37.5\n"
          ],
          "name": "stdout"
        },
        {
          "output_type": "stream",
          "text": [
            "310it [00:20, 14.78it/s]\n",
            "2it [00:00, 15.24it/s]"
          ],
          "name": "stderr"
        },
        {
          "output_type": "stream",
          "text": [
            "The Total Accuracy for Epoch 1: 46.95195801372628\n",
            "Training Loss Epoch: 1.3365626046734471\n",
            "Training Accuracy Epoch: 46.95195801372628\n",
            "Training Loss per 5000 steps: 1.3397321701049805\n",
            "Training Accuracy per 5000 steps: 62.5\n"
          ],
          "name": "stdout"
        },
        {
          "output_type": "stream",
          "text": [
            "310it [00:21, 14.72it/s]\n",
            "2it [00:00, 15.48it/s]"
          ],
          "name": "stderr"
        },
        {
          "output_type": "stream",
          "text": [
            "The Total Accuracy for Epoch 2: 45.41784416633024\n",
            "Training Loss Epoch: 1.3386743607059601\n",
            "Training Accuracy Epoch: 45.41784416633024\n",
            "Training Loss per 5000 steps: 1.333728551864624\n",
            "Training Accuracy per 5000 steps: 62.5\n"
          ],
          "name": "stdout"
        },
        {
          "output_type": "stream",
          "text": [
            "310it [00:21, 14.67it/s]\n",
            "2it [00:00, 15.21it/s]"
          ],
          "name": "stderr"
        },
        {
          "output_type": "stream",
          "text": [
            "The Total Accuracy for Epoch 3: 44.48930157448527\n",
            "Training Loss Epoch: 1.3397637440312293\n",
            "Training Accuracy Epoch: 44.48930157448527\n",
            "Training Loss per 5000 steps: 1.3454657793045044\n",
            "Training Accuracy per 5000 steps: 37.5\n"
          ],
          "name": "stdout"
        },
        {
          "output_type": "stream",
          "text": [
            "310it [00:21, 14.70it/s]\n",
            "2it [00:00, 15.41it/s]"
          ],
          "name": "stderr"
        },
        {
          "output_type": "stream",
          "text": [
            "The Total Accuracy for Epoch 1: 43.43964473153007\n",
            "Training Loss Epoch: 1.3411929069026824\n",
            "Training Accuracy Epoch: 43.43964473153007\n",
            "Training Loss per 5000 steps: 1.3525421619415283\n",
            "Training Accuracy per 5000 steps: 37.5\n"
          ],
          "name": "stdout"
        },
        {
          "output_type": "stream",
          "text": [
            "310it [00:21, 14.73it/s]\n",
            "2it [00:00, 15.11it/s]"
          ],
          "name": "stderr"
        },
        {
          "output_type": "stream",
          "text": [
            "The Total Accuracy for Epoch 2: 44.04521598708115\n",
            "Training Loss Epoch: 1.3397659267148665\n",
            "Training Accuracy Epoch: 44.04521598708115\n",
            "Training Loss per 5000 steps: 1.3449701070785522\n",
            "Training Accuracy per 5000 steps: 37.5\n"
          ],
          "name": "stdout"
        },
        {
          "output_type": "stream",
          "text": [
            "310it [00:21, 14.73it/s]\n",
            "2it [00:00, 15.36it/s]"
          ],
          "name": "stderr"
        },
        {
          "output_type": "stream",
          "text": [
            "The Total Accuracy for Epoch 3: 44.44893015744853\n",
            "Training Loss Epoch: 1.340887355035351\n",
            "Training Accuracy Epoch: 44.44893015744853\n",
            "Training Loss per 5000 steps: 1.3274061679840088\n",
            "Training Accuracy per 5000 steps: 50.0\n"
          ],
          "name": "stdout"
        },
        {
          "output_type": "stream",
          "text": [
            "310it [00:21, 14.69it/s]\n",
            "2it [00:00, 15.24it/s]"
          ],
          "name": "stderr"
        },
        {
          "output_type": "stream",
          "text": [
            "The Total Accuracy for Epoch 1: 45.66007266855067\n",
            "Training Loss Epoch: 1.339558986310036\n",
            "Training Accuracy Epoch: 45.66007266855067\n",
            "Training Loss per 5000 steps: 1.3422551155090332\n",
            "Training Accuracy per 5000 steps: 50.0\n"
          ],
          "name": "stdout"
        },
        {
          "output_type": "stream",
          "text": [
            "310it [00:21, 14.67it/s]\n",
            "2it [00:00, 15.28it/s]"
          ],
          "name": "stderr"
        },
        {
          "output_type": "stream",
          "text": [
            "The Total Accuracy for Epoch 2: 44.529672991522006\n",
            "Training Loss Epoch: 1.3407156140573564\n",
            "Training Accuracy Epoch: 44.529672991522006\n",
            "Training Loss per 5000 steps: 1.3359251022338867\n",
            "Training Accuracy per 5000 steps: 37.5\n"
          ],
          "name": "stdout"
        },
        {
          "output_type": "stream",
          "text": [
            "310it [00:21, 14.70it/s]\n",
            "2it [00:00, 14.82it/s]"
          ],
          "name": "stderr"
        },
        {
          "output_type": "stream",
          "text": [
            "The Total Accuracy for Epoch 3: 45.41784416633024\n",
            "Training Loss Epoch: 1.3390119567994148\n",
            "Training Accuracy Epoch: 45.41784416633024\n",
            "Round: 1... \tAverage Loss: 1.339\n",
            "Round: 1... \tAverage Accuracy: 45.095\n",
            "Training Loss per 5000 steps: 1.3269295692443848\n",
            "Training Accuracy per 5000 steps: 50.0\n"
          ],
          "name": "stdout"
        },
        {
          "output_type": "stream",
          "text": [
            "310it [00:21, 14.71it/s]\n",
            "2it [00:00, 15.08it/s]"
          ],
          "name": "stderr"
        },
        {
          "output_type": "stream",
          "text": [
            "The Total Accuracy for Epoch 1: 44.368187323375054\n",
            "Training Loss Epoch: 1.3408181009754059\n",
            "Training Accuracy Epoch: 44.368187323375054\n",
            "Training Loss per 5000 steps: 1.334365725517273\n",
            "Training Accuracy per 5000 steps: 50.0\n"
          ],
          "name": "stdout"
        },
        {
          "output_type": "stream",
          "text": [
            "310it [00:21, 14.64it/s]\n",
            "2it [00:00, 15.17it/s]"
          ],
          "name": "stderr"
        },
        {
          "output_type": "stream",
          "text": [
            "The Total Accuracy for Epoch 2: 46.66935809446912\n",
            "Training Loss Epoch: 1.3371347677323127\n",
            "Training Accuracy Epoch: 46.66935809446912\n",
            "Training Loss per 5000 steps: 1.3178231716156006\n",
            "Training Accuracy per 5000 steps: 50.0\n"
          ],
          "name": "stdout"
        },
        {
          "output_type": "stream",
          "text": [
            "310it [00:21, 14.67it/s]\n",
            "2it [00:00, 15.39it/s]"
          ],
          "name": "stderr"
        },
        {
          "output_type": "stream",
          "text": [
            "The Total Accuracy for Epoch 3: 45.57932983447719\n",
            "Training Loss Epoch: 1.3379874221740231\n",
            "Training Accuracy Epoch: 45.57932983447719\n",
            "Training Loss per 5000 steps: 1.3025083541870117\n",
            "Training Accuracy per 5000 steps: 62.5\n"
          ],
          "name": "stdout"
        },
        {
          "output_type": "stream",
          "text": [
            "310it [00:21, 14.68it/s]\n",
            "2it [00:00, 15.21it/s]"
          ],
          "name": "stderr"
        },
        {
          "output_type": "stream",
          "text": [
            "The Total Accuracy for Epoch 1: 43.6818732337505\n",
            "Training Loss Epoch: 1.3390059286548246\n",
            "Training Accuracy Epoch: 43.6818732337505\n",
            "Training Loss per 5000 steps: 1.3544182777404785\n",
            "Training Accuracy per 5000 steps: 25.0\n"
          ],
          "name": "stdout"
        },
        {
          "output_type": "stream",
          "text": [
            "310it [00:21, 14.65it/s]\n",
            "2it [00:00, 15.20it/s]"
          ],
          "name": "stderr"
        },
        {
          "output_type": "stream",
          "text": [
            "The Total Accuracy for Epoch 2: 45.21598708114655\n",
            "Training Loss Epoch: 1.3389995190405077\n",
            "Training Accuracy Epoch: 45.21598708114655\n",
            "Training Loss per 5000 steps: 1.3211712837219238\n",
            "Training Accuracy per 5000 steps: 50.0\n"
          ],
          "name": "stdout"
        },
        {
          "output_type": "stream",
          "text": [
            "310it [00:21, 14.66it/s]\n",
            "2it [00:00, 15.05it/s]"
          ],
          "name": "stderr"
        },
        {
          "output_type": "stream",
          "text": [
            "The Total Accuracy for Epoch 3: 44.08558740411789\n",
            "Training Loss Epoch: 1.3404347531257137\n",
            "Training Accuracy Epoch: 44.08558740411789\n",
            "Training Loss per 5000 steps: 1.324592113494873\n",
            "Training Accuracy per 5000 steps: 62.5\n"
          ],
          "name": "stdout"
        },
        {
          "output_type": "stream",
          "text": [
            "310it [00:21, 14.66it/s]\n",
            "2it [00:00, 15.43it/s]"
          ],
          "name": "stderr"
        },
        {
          "output_type": "stream",
          "text": [
            "The Total Accuracy for Epoch 1: 44.65078724263222\n",
            "Training Loss Epoch: 1.3384376964261455\n",
            "Training Accuracy Epoch: 44.65078724263222\n",
            "Training Loss per 5000 steps: 1.3307493925094604\n",
            "Training Accuracy per 5000 steps: 37.5\n"
          ],
          "name": "stdout"
        },
        {
          "output_type": "stream",
          "text": [
            "310it [00:21, 14.64it/s]\n",
            "2it [00:00, 15.14it/s]"
          ],
          "name": "stderr"
        },
        {
          "output_type": "stream",
          "text": [
            "The Total Accuracy for Epoch 2: 45.66007266855067\n",
            "Training Loss Epoch: 1.3381890916055248\n",
            "Training Accuracy Epoch: 45.66007266855067\n",
            "Training Loss per 5000 steps: 1.3315149545669556\n",
            "Training Accuracy per 5000 steps: 50.0\n"
          ],
          "name": "stdout"
        },
        {
          "output_type": "stream",
          "text": [
            "310it [00:21, 14.67it/s]\n",
            "2it [00:00, 15.45it/s]"
          ],
          "name": "stderr"
        },
        {
          "output_type": "stream",
          "text": [
            "The Total Accuracy for Epoch 3: 45.61970125151393\n",
            "Training Loss Epoch: 1.3384696675885108\n",
            "Training Accuracy Epoch: 45.61970125151393\n",
            "Training Loss per 5000 steps: 1.349029302597046\n",
            "Training Accuracy per 5000 steps: 37.5\n"
          ],
          "name": "stdout"
        },
        {
          "output_type": "stream",
          "text": [
            "310it [00:21, 14.67it/s]\n",
            "2it [00:00, 15.32it/s]"
          ],
          "name": "stderr"
        },
        {
          "output_type": "stream",
          "text": [
            "The Total Accuracy for Epoch 1: 45.25635849818329\n",
            "Training Loss Epoch: 1.3377886641410088\n",
            "Training Accuracy Epoch: 45.25635849818329\n",
            "Training Loss per 5000 steps: 1.3128268718719482\n",
            "Training Accuracy per 5000 steps: 62.5\n"
          ],
          "name": "stdout"
        },
        {
          "output_type": "stream",
          "text": [
            "310it [00:21, 14.66it/s]\n",
            "2it [00:00, 15.11it/s]"
          ],
          "name": "stderr"
        },
        {
          "output_type": "stream",
          "text": [
            "The Total Accuracy for Epoch 2: 46.18490109002826\n",
            "Training Loss Epoch: 1.3375837345277108\n",
            "Training Accuracy Epoch: 46.18490109002826\n",
            "Training Loss per 5000 steps: 1.3097431659698486\n",
            "Training Accuracy per 5000 steps: 50.0\n"
          ],
          "name": "stdout"
        },
        {
          "output_type": "stream",
          "text": [
            "310it [00:21, 14.63it/s]\n",
            "2it [00:00, 15.25it/s]"
          ],
          "name": "stderr"
        },
        {
          "output_type": "stream",
          "text": [
            "The Total Accuracy for Epoch 3: 47.27492935002019\n",
            "Training Loss Epoch: 1.3368412360068291\n",
            "Training Accuracy Epoch: 47.27492935002019\n",
            "Training Loss per 5000 steps: 1.3397375345230103\n",
            "Training Accuracy per 5000 steps: 25.0\n"
          ],
          "name": "stdout"
        },
        {
          "output_type": "stream",
          "text": [
            "310it [00:21, 14.60it/s]\n",
            "2it [00:00, 15.10it/s]"
          ],
          "name": "stderr"
        },
        {
          "output_type": "stream",
          "text": [
            "The Total Accuracy for Epoch 1: 45.3774727492935\n",
            "Training Loss Epoch: 1.3388868358827406\n",
            "Training Accuracy Epoch: 45.3774727492935\n",
            "Training Loss per 5000 steps: 1.350792407989502\n",
            "Training Accuracy per 5000 steps: 25.0\n"
          ],
          "name": "stdout"
        },
        {
          "output_type": "stream",
          "text": [
            "310it [00:21, 14.49it/s]\n",
            "2it [00:00, 14.99it/s]"
          ],
          "name": "stderr"
        },
        {
          "output_type": "stream",
          "text": [
            "The Total Accuracy for Epoch 2: 46.104158255954786\n",
            "Training Loss Epoch: 1.3383901830642455\n",
            "Training Accuracy Epoch: 46.104158255954786\n",
            "Training Loss per 5000 steps: 1.3520839214324951\n",
            "Training Accuracy per 5000 steps: 50.0\n"
          ],
          "name": "stdout"
        },
        {
          "output_type": "stream",
          "text": [
            "310it [00:21, 14.48it/s]\n",
            "2it [00:00, 15.09it/s]"
          ],
          "name": "stderr"
        },
        {
          "output_type": "stream",
          "text": [
            "The Total Accuracy for Epoch 3: 45.61970125151393\n",
            "Training Loss Epoch: 1.339469640485702\n",
            "Training Accuracy Epoch: 45.61970125151393\n",
            "Round: 2... \tAverage Loss: 1.339\n",
            "Round: 2... \tAverage Accuracy: 45.636\n",
            "Training Loss per 5000 steps: 1.3230746984481812\n",
            "Training Accuracy per 5000 steps: 50.0\n"
          ],
          "name": "stdout"
        },
        {
          "output_type": "stream",
          "text": [
            "310it [00:21, 14.51it/s]\n",
            "2it [00:00, 15.14it/s]"
          ],
          "name": "stderr"
        },
        {
          "output_type": "stream",
          "text": [
            "The Total Accuracy for Epoch 1: 44.00484457004441\n",
            "Training Loss Epoch: 1.339357344181307\n",
            "Training Accuracy Epoch: 44.00484457004441\n",
            "Training Loss per 5000 steps: 1.3709379434585571\n",
            "Training Accuracy per 5000 steps: 25.0\n"
          ],
          "name": "stdout"
        },
        {
          "output_type": "stream",
          "text": [
            "310it [00:21, 14.56it/s]\n",
            "2it [00:00, 15.07it/s]"
          ],
          "name": "stderr"
        },
        {
          "output_type": "stream",
          "text": [
            "The Total Accuracy for Epoch 2: 45.942672587807834\n",
            "Training Loss Epoch: 1.3378180426935995\n",
            "Training Accuracy Epoch: 45.942672587807834\n",
            "Training Loss per 5000 steps: 1.3168795108795166\n",
            "Training Accuracy per 5000 steps: 50.0\n"
          ],
          "name": "stdout"
        },
        {
          "output_type": "stream",
          "text": [
            "310it [00:21, 14.55it/s]\n",
            "2it [00:00, 15.35it/s]"
          ],
          "name": "stderr"
        },
        {
          "output_type": "stream",
          "text": [
            "The Total Accuracy for Epoch 3: 44.2067016552281\n",
            "Training Loss Epoch: 1.3397157622921851\n",
            "Training Accuracy Epoch: 44.2067016552281\n",
            "Training Loss per 5000 steps: 1.3417633771896362\n",
            "Training Accuracy per 5000 steps: 62.5\n"
          ],
          "name": "stdout"
        },
        {
          "output_type": "stream",
          "text": [
            "310it [00:21, 14.59it/s]\n",
            "2it [00:00, 15.30it/s]"
          ],
          "name": "stderr"
        },
        {
          "output_type": "stream",
          "text": [
            "The Total Accuracy for Epoch 1: 45.0545014129996\n",
            "Training Loss Epoch: 1.3393267331584808\n",
            "Training Accuracy Epoch: 45.0545014129996\n",
            "Training Loss per 5000 steps: 1.3448007106781006\n",
            "Training Accuracy per 5000 steps: 50.0\n"
          ],
          "name": "stdout"
        },
        {
          "output_type": "stream",
          "text": [
            "310it [00:21, 14.61it/s]\n",
            "2it [00:00, 15.20it/s]"
          ],
          "name": "stderr"
        },
        {
          "output_type": "stream",
          "text": [
            "The Total Accuracy for Epoch 2: 44.2067016552281\n",
            "Training Loss Epoch: 1.3401595900135657\n",
            "Training Accuracy Epoch: 44.2067016552281\n",
            "Training Loss per 5000 steps: 1.3470163345336914\n",
            "Training Accuracy per 5000 steps: 25.0\n"
          ],
          "name": "stdout"
        },
        {
          "output_type": "stream",
          "text": [
            "310it [00:21, 14.57it/s]\n",
            "2it [00:00, 15.34it/s]"
          ],
          "name": "stderr"
        },
        {
          "output_type": "stream",
          "text": [
            "The Total Accuracy for Epoch 3: 46.225272507065\n",
            "Training Loss Epoch: 1.3380012981353266\n",
            "Training Accuracy Epoch: 46.225272507065\n",
            "Training Loss per 5000 steps: 1.3360390663146973\n",
            "Training Accuracy per 5000 steps: 62.5\n"
          ],
          "name": "stdout"
        },
        {
          "output_type": "stream",
          "text": [
            "310it [00:21, 14.60it/s]\n",
            "2it [00:00, 15.38it/s]"
          ],
          "name": "stderr"
        },
        {
          "output_type": "stream",
          "text": [
            "The Total Accuracy for Epoch 1: 46.709729511505856\n",
            "Training Loss Epoch: 1.3377317774680353\n",
            "Training Accuracy Epoch: 46.709729511505856\n",
            "Training Loss per 5000 steps: 1.37716543674469\n",
            "Training Accuracy per 5000 steps: 25.0\n"
          ],
          "name": "stdout"
        },
        {
          "output_type": "stream",
          "text": [
            "310it [00:21, 14.60it/s]\n",
            "2it [00:00, 15.26it/s]"
          ],
          "name": "stderr"
        },
        {
          "output_type": "stream",
          "text": [
            "The Total Accuracy for Epoch 2: 46.346386758175214\n",
            "Training Loss Epoch: 1.3375057866496425\n",
            "Training Accuracy Epoch: 46.346386758175214\n",
            "Training Loss per 5000 steps: 1.3349469900131226\n",
            "Training Accuracy per 5000 steps: 50.0\n"
          ],
          "name": "stdout"
        },
        {
          "output_type": "stream",
          "text": [
            "310it [00:21, 14.64it/s]\n",
            "2it [00:00, 15.58it/s]"
          ],
          "name": "stderr"
        },
        {
          "output_type": "stream",
          "text": [
            "The Total Accuracy for Epoch 3: 45.29672991522003\n",
            "Training Loss Epoch: 1.3386131401984922\n",
            "Training Accuracy Epoch: 45.29672991522003\n",
            "Training Loss per 5000 steps: 1.333484411239624\n",
            "Training Accuracy per 5000 steps: 25.0\n"
          ],
          "name": "stdout"
        },
        {
          "output_type": "stream",
          "text": [
            "310it [00:21, 14.62it/s]\n",
            "2it [00:00, 15.03it/s]"
          ],
          "name": "stderr"
        },
        {
          "output_type": "stream",
          "text": [
            "The Total Accuracy for Epoch 1: 45.57932983447719\n",
            "Training Loss Epoch: 1.3395342723015815\n",
            "Training Accuracy Epoch: 45.57932983447719\n",
            "Training Loss per 5000 steps: 1.324571132659912\n",
            "Training Accuracy per 5000 steps: 62.5\n"
          ],
          "name": "stdout"
        },
        {
          "output_type": "stream",
          "text": [
            "310it [00:21, 14.58it/s]\n",
            "2it [00:00, 15.24it/s]"
          ],
          "name": "stderr"
        },
        {
          "output_type": "stream",
          "text": [
            "The Total Accuracy for Epoch 2: 45.82155833669762\n",
            "Training Loss Epoch: 1.3386041691226345\n",
            "Training Accuracy Epoch: 45.82155833669762\n",
            "Training Loss per 5000 steps: 1.3503334522247314\n",
            "Training Accuracy per 5000 steps: 37.5\n"
          ],
          "name": "stdout"
        },
        {
          "output_type": "stream",
          "text": [
            "310it [00:21, 14.58it/s]\n",
            "2it [00:00, 15.15it/s]"
          ],
          "name": "stderr"
        },
        {
          "output_type": "stream",
          "text": [
            "The Total Accuracy for Epoch 3: 44.08558740411789\n",
            "Training Loss Epoch: 1.3396394560413976\n",
            "Training Accuracy Epoch: 44.08558740411789\n",
            "Training Loss per 5000 steps: 1.3302130699157715\n",
            "Training Accuracy per 5000 steps: 50.0\n"
          ],
          "name": "stdout"
        },
        {
          "output_type": "stream",
          "text": [
            "310it [00:21, 14.55it/s]\n",
            "2it [00:00, 14.97it/s]"
          ],
          "name": "stderr"
        },
        {
          "output_type": "stream",
          "text": [
            "The Total Accuracy for Epoch 1: 45.337101332256765\n",
            "Training Loss Epoch: 1.3392718930398264\n",
            "Training Accuracy Epoch: 45.337101332256765\n",
            "Training Loss per 5000 steps: 1.333837628364563\n",
            "Training Accuracy per 5000 steps: 50.0\n"
          ],
          "name": "stdout"
        },
        {
          "output_type": "stream",
          "text": [
            "310it [00:21, 14.56it/s]\n",
            "2it [00:00, 15.18it/s]"
          ],
          "name": "stderr"
        },
        {
          "output_type": "stream",
          "text": [
            "The Total Accuracy for Epoch 2: 46.38675817521195\n",
            "Training Loss Epoch: 1.3373515940481617\n",
            "Training Accuracy Epoch: 46.38675817521195\n",
            "Training Loss per 5000 steps: 1.35550057888031\n",
            "Training Accuracy per 5000 steps: 37.5\n"
          ],
          "name": "stdout"
        },
        {
          "output_type": "stream",
          "text": [
            "310it [00:21, 14.60it/s]\n"
          ],
          "name": "stderr"
        },
        {
          "output_type": "stream",
          "text": [
            "The Total Accuracy for Epoch 3: 45.49858700040372\n",
            "Training Loss Epoch: 1.3385984382321758\n",
            "Training Accuracy Epoch: 45.49858700040372\n",
            "Round: 3... \tAverage Loss: 1.339\n",
            "Round: 3... \tAverage Accuracy: 45.063\n",
            "Training Done!\n",
            "Total time taken to Train: 951.0421044826508\n"
          ],
          "name": "stdout"
        },
        {
          "output_type": "display_data",
          "data": {
            "image/png": "[encoded data removed]",
            "text/plain": [
              "<Figure size 432x288 with 1 Axes>"
            ]
          },
          "metadata": {
            "tags": [],
            "needs_background": "light"
          }
        }
      ]
    },
    {
      "cell_type": "code",
      "metadata": {
        "id": "c6TxASf-2aK5"
      },
      "source": [
        "def calcuate_accuracy(big_idx, targets):\n",
        "  n_correct = (big_idx==targets).sum().item()\n",
        "  return n_correct"
      ],
      "execution_count": 18,
      "outputs": []
    },
    {
      "cell_type": "code",
      "metadata": {
        "id": "KfihyQ6Btb7I"
      },
      "source": [
        "#Testing the trained model\n",
        "\n",
        "def valid(model, testing_loader, loss_function):\n",
        "    model.eval()\n",
        "    n_correct = 0; n_wrong = 0; total = 0; tr_loss=0; nb_tr_steps=0; nb_tr_examples=0\n",
        "    with torch.no_grad():\n",
        "        for _, data in tqdm(enumerate(testing_loader, 0)):\n",
        "            ids = data['ids'].to(device, dtype = torch.long)\n",
        "            mask = data['mask'].to(device, dtype = torch.long)\n",
        "            #token_type_ids = data['token_type_ids'].to(device, dtype=torch.long)\n",
        "            targets = data['targets'].to(device, dtype = torch.long)\n",
        "            outputs = model(ids, mask)\n",
        "            loss = loss_function(outputs, targets)\n",
        "            tr_loss += loss.item()\n",
        "            big_val, big_idx = torch.max(outputs.data, dim=1)\n",
        "            n_correct += calcuate_accuracy(big_idx, targets)\n",
        "\n",
        "            nb_tr_steps += 1\n",
        "            nb_tr_examples+=targets.size(0)\n",
        "            \n",
        "            if _%5000==0:\n",
        "                loss_step = tr_loss/nb_tr_steps\n",
        "                accu_step = (n_correct*100)/nb_tr_examples\n",
        "                print(f\"Validation Loss per 100 steps: {loss_step}\")\n",
        "                print(f\"Validation Accuracy per 100 steps: {accu_step}\")\n",
        "    epoch_loss = tr_loss/nb_tr_steps\n",
        "    epoch_accu = (n_correct*100)/nb_tr_examples\n",
        "    print(f\"Validation Loss Epoch: {epoch_loss}\")\n",
        "    print(f\"Validation Accuracy Epoch: {epoch_accu}\")\n",
        "    \n",
        "    return epoch_accu\n"
      ],
      "execution_count": 19,
      "outputs": []
    },
    {
      "cell_type": "code",
      "metadata": {
        "id": "DEWigxtmVCKn",
        "colab": {
          "base_uri": "https://localhost:8080/"
        },
        "outputId": "ef1fd434-366f-434a-c110-25254cb7fd52"
      },
      "source": [
        "import pickle\n",
        "\n",
        "print('This is the validation section to print the accuracy and see how it performs')\n",
        "print('Here we are leveraging on the dataloader crearted for the validation dataset, the approcah is using more of pytorch')\n",
        "\n",
        "acc = valid(distilbert_iid_trained, testing_loader, loss_function)\n",
        "print(\"Accuracy on test data = %0.2f%%\" % acc)\n",
        "\n",
        "d['train_acc'] = train_acc\n",
        "d['test_acc'] = acc\n",
        "\n",
        "\n",
        "with open(f'/content/drive/My Drive/DistilBERT/DPFLDistilBERT_Dep_eps0_5.pkl', 'wb') as file:\n",
        "  pickle.dump(d, file)"
      ],
      "execution_count": 22,
      "outputs": [
        {
          "output_type": "stream",
          "text": [
            "4it [00:00, 39.41it/s]"
          ],
          "name": "stderr"
        },
        {
          "output_type": "stream",
          "text": [
            "This is the validation section to print the accuracy and see how it performs\n",
            "Here we are leveraging on the dataloader crearted for the validation dataset, the approcah is using more of pytorch\n",
            "Validation Loss per 100 steps: 1.352217435836792\n",
            "Validation Accuracy per 100 steps: 0.0\n"
          ],
          "name": "stdout"
        },
        {
          "output_type": "stream",
          "text": [
            "310it [00:05, 56.40it/s]"
          ],
          "name": "stderr"
        },
        {
          "output_type": "stream",
          "text": [
            "Validation Loss Epoch: 1.3371515404793524\n",
            "Validation Accuracy Epoch: 49.4345718901454\n",
            "Accuracy on test data = 49.43%\n"
          ],
          "name": "stdout"
        },
        {
          "output_type": "stream",
          "text": [
            "\n"
          ],
          "name": "stderr"
        }
      ]
    },
    {
      "cell_type": "code",
      "metadata": {
        "colab": {
          "base_uri": "https://localhost:8080/"
        },
        "id": "XAc_W8Yn0w8g",
        "outputId": "38aa2aee-096c-4323-f1e4-66833113baf7"
      },
      "source": [
        "# number of training rounds\n",
        "rounds = 3\n",
        "# client fraction\n",
        "C = 0.5\n",
        "# number of clients\n",
        "K = 10\n",
        "# number of training passes on local dataset for each round\n",
        "E = 5\n",
        "# batch size\n",
        "batch_size = 10\n",
        "# learning Rate\n",
        "lr=1e-05\n",
        "# dict containing different type of data partition\n",
        "data_dict = non_iid_partition(training_set, 10, 240, 10, 10)\n",
        "d={}\n",
        "#iid_partition(training_set, 10)\n",
        "\n",
        "loss_function = torch.nn.CrossEntropyLoss()\n",
        "#model = \n",
        "if torch.cuda.is_available():\n",
        "  model.cuda()\n",
        "\n",
        "distilbert_non_iid_trained,train_acc = training(model, rounds, train_dataset, data_dict, loss_function, lr, C, K, E, \"orange\")"
      ],
      "execution_count": null,
      "outputs": [
        {
          "output_type": "stream",
          "text": [
            "/usr/local/lib/python3.7/dist-packages/opacus/privacy_engine.py:523: UserWarning: A ``sample_rate`` has been provided.Thus, the provided ``batch_size``and ``sample_size`` will be ignored.\n",
            "  \"A ``sample_rate`` has been provided.\"\n",
            "/usr/local/lib/python3.7/dist-packages/opacus/privacy_engine.py:195: UserWarning: Secure RNG turned off. This is perfectly fine for experimentation as it allows for much faster training performance, but remember to turn it on and retrain one last time before production with ``secure_rng`` turned on.\n",
            "  \"Secure RNG turned off. This is perfectly fine for experimentation as it allows \"\n",
            "0it [00:00, ?it/s]/usr/local/lib/python3.7/dist-packages/torch/nn/modules/module.py:795: UserWarning: Using a non-full backward hook when the forward contains multiple autograd Nodes is deprecated and will be removed in future versions. This hook will be missing some grad_input. Please use register_full_backward_hook to get the documented behavior.\n",
            "  warnings.warn(\"Using a non-full backward hook when the forward contains multiple autograd Nodes \"\n",
            "2it [00:00, 10.35it/s]"
          ],
          "name": "stderr"
        },
        {
          "output_type": "stream",
          "text": [
            "Training Loss per 5000 steps: 1.3566043376922607\n",
            "Training Accuracy per 5000 steps: 62.5\n"
          ],
          "name": "stdout"
        },
        {
          "output_type": "stream",
          "text": [
            "310it [00:20, 14.80it/s]\n",
            "2it [00:00, 15.11it/s]"
          ],
          "name": "stderr"
        },
        {
          "output_type": "stream",
          "text": [
            "The Total Accuracy for Epoch 1: 53.774727492935\n",
            "Training Loss Epoch: 1.3352490717364895\n",
            "Training Accuracy Epoch: 53.774727492935\n",
            "Training Loss per 5000 steps: 1.3215125799179077\n",
            "Training Accuracy per 5000 steps: 50.0\n"
          ],
          "name": "stdout"
        },
        {
          "output_type": "stream",
          "text": [
            "220it [00:15, 14.39it/s]"
          ],
          "name": "stderr"
        }
      ]
    },
    {
      "cell_type": "code",
      "metadata": {
        "id": "oHxP3pkx5v-K"
      },
      "source": [
        "import pickle\n",
        "print('This is the validation section to print the accuracy and see how it performs')\n",
        "print('Here we are leveraging on the dataloader crearted for the validation dataset, the approcah is using more of pytorch')\n",
        "\n",
        "acc = valid(bert_non_iid_trained, testing_loader, loss_function)\n",
        "print(\"Accuracy on test data = %0.2f%%\" % acc)\n",
        "\n",
        "\n",
        "d['train_acc'] = train_acc\n",
        "d['test_acc'] = acc\n",
        "\n",
        "\n",
        "with open(f'/content/drive/My Drive/DistilBERT/DPFLDistilBERT_Dep_eps0_5_noniid.pkl', 'wb') as file:\n",
        "  pickle.dump(d, file)"
      ],
      "execution_count": null,
      "outputs": []
    },
    {
      "cell_type": "code",
      "metadata": {
        "id": "iUIsUxojzN0Q"
      },
      "source": [
        ""
      ],
      "execution_count": null,
      "outputs": []
    }
  ]
}