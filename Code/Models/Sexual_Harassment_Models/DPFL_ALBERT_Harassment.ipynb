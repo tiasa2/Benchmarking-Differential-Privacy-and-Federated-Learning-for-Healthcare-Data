{
  "nbformat": 4,
  "nbformat_minor": 0,
  "metadata": {
    "colab": {
      "name": "DPFL_ALBERT_Harassment.ipynb",
      "provenance": [],
      "collapsed_sections": []
    },
    "kernelspec": {
      "name": "python3",
      "display_name": "Python 3"
    },
    "language_info": {
      "name": "python"
    },
    "accelerator": "GPU"
  },
  "cells": [
    {
      "cell_type": "code",
      "metadata": {
        "colab": {
          "base_uri": "https://localhost:8080/"
        },
        "id": "ZFcT_ttb3cxp",
        "outputId": "c10acd03-48f9-4771-c1b7-766cd7df7658"
      },
      "source": [
        "!pip install transformers==3"
      ],
      "execution_count": 1,
      "outputs": [
        {
          "output_type": "stream",
          "text": [
            "Collecting transformers==3\n",
            "\u001b[?25l  Downloading https://files.pythonhosted.org/packages/9c/35/1c3f6e62d81f5f0daff1384e6d5e6c5758682a8357ebc765ece2b9def62b/transformers-3.0.0-py3-none-any.whl (754kB)\n",
            "\u001b[K     |████████████████████████████████| 757kB 2.9MB/s \n",
            "\u001b[?25hRequirement already satisfied: packaging in /usr/local/lib/python3.7/dist-packages (from transformers==3) (20.9)\n",
            "Requirement already satisfied: regex!=2019.12.17 in /usr/local/lib/python3.7/dist-packages (from transformers==3) (2019.12.20)\n",
            "Collecting sentencepiece\n",
            "\u001b[?25l  Downloading https://files.pythonhosted.org/packages/f5/99/e0808cb947ba10f575839c43e8fafc9cc44e4a7a2c8f79c60db48220a577/sentencepiece-0.1.95-cp37-cp37m-manylinux2014_x86_64.whl (1.2MB)\n",
            "\u001b[K     |████████████████████████████████| 1.2MB 15.5MB/s \n",
            "\u001b[?25hCollecting sacremoses\n",
            "\u001b[?25l  Downloading https://files.pythonhosted.org/packages/75/ee/67241dc87f266093c533a2d4d3d69438e57d7a90abb216fa076e7d475d4a/sacremoses-0.0.45-py3-none-any.whl (895kB)\n",
            "\u001b[K     |████████████████████████████████| 901kB 18.9MB/s \n",
            "\u001b[?25hRequirement already satisfied: numpy in /usr/local/lib/python3.7/dist-packages (from transformers==3) (1.19.5)\n",
            "Collecting tokenizers==0.8.0-rc4\n",
            "\u001b[?25l  Downloading https://files.pythonhosted.org/packages/f7/82/0e82a95bd9db2b32569500cc1bb47aa7c4e0f57aa5e35cceba414096917b/tokenizers-0.8.0rc4-cp37-cp37m-manylinux1_x86_64.whl (3.0MB)\n",
            "\u001b[K     |████████████████████████████████| 3.0MB 23.2MB/s \n",
            "\u001b[?25hRequirement already satisfied: requests in /usr/local/lib/python3.7/dist-packages (from transformers==3) (2.23.0)\n",
            "Requirement already satisfied: tqdm>=4.27 in /usr/local/lib/python3.7/dist-packages (from transformers==3) (4.41.1)\n",
            "Requirement already satisfied: filelock in /usr/local/lib/python3.7/dist-packages (from transformers==3) (3.0.12)\n",
            "Requirement already satisfied: pyparsing>=2.0.2 in /usr/local/lib/python3.7/dist-packages (from packaging->transformers==3) (2.4.7)\n",
            "Requirement already satisfied: click in /usr/local/lib/python3.7/dist-packages (from sacremoses->transformers==3) (7.1.2)\n",
            "Requirement already satisfied: six in /usr/local/lib/python3.7/dist-packages (from sacremoses->transformers==3) (1.15.0)\n",
            "Requirement already satisfied: joblib in /usr/local/lib/python3.7/dist-packages (from sacremoses->transformers==3) (1.0.1)\n",
            "Requirement already satisfied: idna<3,>=2.5 in /usr/local/lib/python3.7/dist-packages (from requests->transformers==3) (2.10)\n",
            "Requirement already satisfied: chardet<4,>=3.0.2 in /usr/local/lib/python3.7/dist-packages (from requests->transformers==3) (3.0.4)\n",
            "Requirement already satisfied: certifi>=2017.4.17 in /usr/local/lib/python3.7/dist-packages (from requests->transformers==3) (2020.12.5)\n",
            "Requirement already satisfied: urllib3!=1.25.0,!=1.25.1,<1.26,>=1.21.1 in /usr/local/lib/python3.7/dist-packages (from requests->transformers==3) (1.24.3)\n",
            "Installing collected packages: sentencepiece, sacremoses, tokenizers, transformers\n",
            "Successfully installed sacremoses-0.0.45 sentencepiece-0.1.95 tokenizers-0.8.0rc4 transformers-3.0.0\n"
          ],
          "name": "stdout"
        }
      ]
    },
    {
      "cell_type": "code",
      "metadata": {
        "colab": {
          "base_uri": "https://localhost:8080/"
        },
        "id": "9MOR7QL-NqIW",
        "outputId": "0e0e155e-4d39-4f64-9a3e-bb897c99810b"
      },
      "source": [
        "!pip install opacus"
      ],
      "execution_count": 2,
      "outputs": [
        {
          "output_type": "stream",
          "text": [
            "Collecting opacus\n",
            "\u001b[?25l  Downloading https://files.pythonhosted.org/packages/68/c4/36f07b54413e607f07858d5b668379991948f0de9979185a895fee9c2208/opacus-0.13.0-py3-none-any.whl (102kB)\n",
            "\u001b[K     |████████████████████████████████| 102kB 2.0MB/s \n",
            "\u001b[?25hRequirement already satisfied: torch>=1.3 in /usr/local/lib/python3.7/dist-packages (from opacus) (1.8.1+cu101)\n",
            "Requirement already satisfied: scipy>=1.2 in /usr/local/lib/python3.7/dist-packages (from opacus) (1.4.1)\n",
            "Requirement already satisfied: torchvision>=0.9 in /usr/local/lib/python3.7/dist-packages (from opacus) (0.9.1+cu101)\n",
            "Requirement already satisfied: numpy>=1.15 in /usr/local/lib/python3.7/dist-packages (from opacus) (1.19.5)\n",
            "Collecting requests>=2.25.1\n",
            "\u001b[?25l  Downloading https://files.pythonhosted.org/packages/29/c1/24814557f1d22c56d50280771a17307e6bf87b70727d975fd6b2ce6b014a/requests-2.25.1-py2.py3-none-any.whl (61kB)\n",
            "\u001b[K     |████████████████████████████████| 61kB 5.2MB/s \n",
            "\u001b[?25hRequirement already satisfied: tqdm>=4.40 in /usr/local/lib/python3.7/dist-packages (from opacus) (4.41.1)\n",
            "Requirement already satisfied: typing-extensions in /usr/local/lib/python3.7/dist-packages (from torch>=1.3->opacus) (3.7.4.3)\n",
            "Requirement already satisfied: pillow>=4.1.1 in /usr/local/lib/python3.7/dist-packages (from torchvision>=0.9->opacus) (7.1.2)\n",
            "Requirement already satisfied: certifi>=2017.4.17 in /usr/local/lib/python3.7/dist-packages (from requests>=2.25.1->opacus) (2020.12.5)\n",
            "Requirement already satisfied: idna<3,>=2.5 in /usr/local/lib/python3.7/dist-packages (from requests>=2.25.1->opacus) (2.10)\n",
            "Requirement already satisfied: urllib3<1.27,>=1.21.1 in /usr/local/lib/python3.7/dist-packages (from requests>=2.25.1->opacus) (1.24.3)\n",
            "Requirement already satisfied: chardet<5,>=3.0.2 in /usr/local/lib/python3.7/dist-packages (from requests>=2.25.1->opacus) (3.0.4)\n",
            "\u001b[31mERROR: google-colab 1.0.0 has requirement requests~=2.23.0, but you'll have requests 2.25.1 which is incompatible.\u001b[0m\n",
            "\u001b[31mERROR: datascience 0.10.6 has requirement folium==0.2.1, but you'll have folium 0.8.3 which is incompatible.\u001b[0m\n",
            "Installing collected packages: requests, opacus\n",
            "  Found existing installation: requests 2.23.0\n",
            "    Uninstalling requests-2.23.0:\n",
            "      Successfully uninstalled requests-2.23.0\n",
            "Successfully installed opacus-0.13.0 requests-2.25.1\n"
          ],
          "name": "stdout"
        }
      ]
    },
    {
      "cell_type": "code",
      "metadata": {
        "id": "mI_AcZbA20Ll"
      },
      "source": [
        "# Importing libraries\n",
        "import pandas as pd\n",
        "import torch\n",
        "import torch.nn as nn\n",
        "import transformers\n",
        "from torch.utils.data import Dataset, DataLoader\n",
        "# Optimizer from hugging face transformers\n",
        "from transformers import AdamW\n",
        "from sklearn.model_selection import train_test_split\n",
        "from sklearn.metrics import classification_report\n",
        "import transformers\n",
        "from transformers import AutoModel, AutoTokenizer\n",
        "import matplotlib.pyplot as plt\n",
        "from tqdm import tqdm\n",
        "import numpy as np\n",
        "import time\n",
        "import opacus\n",
        "from opacus import PrivacyEngine \n",
        "import copy\n",
        "import os\n",
        "import logging\n",
        "logging.basicConfig(level=logging.ERROR)"
      ],
      "execution_count": 3,
      "outputs": []
    },
    {
      "cell_type": "code",
      "metadata": {
        "id": "VGLPc0Pw4a_W",
        "colab": {
          "base_uri": "https://localhost:8080/"
        },
        "outputId": "95078844-998f-41f2-8eaf-fc9a8ef68f76"
      },
      "source": [
        "# Setting up GPU\n",
        "from torch import cuda\n",
        "device = 'cuda' if cuda.is_available() else 'cpu'\n",
        "print(device)"
      ],
      "execution_count": 4,
      "outputs": [
        {
          "output_type": "stream",
          "text": [
            "cuda\n"
          ],
          "name": "stdout"
        }
      ]
    },
    {
      "cell_type": "code",
      "metadata": {
        "colab": {
          "base_uri": "https://localhost:8080/"
        },
        "id": "urJgZigehsge",
        "outputId": "94d4e267-e17c-4b47-986c-f74aad8a13a0"
      },
      "source": [
        "from google.colab import drive\n",
        "drive.mount('/content/drive', force_remount=True)"
      ],
      "execution_count": 17,
      "outputs": [
        {
          "output_type": "stream",
          "text": [
            "Mounted at /content/drive\n"
          ],
          "name": "stdout"
        }
      ]
    },
    {
      "cell_type": "code",
      "metadata": {
        "colab": {
          "base_uri": "https://localhost:8080/",
          "height": 306
        },
        "id": "qm3GRXFa3Hbl",
        "outputId": "5786a775-6167-4cec-f047-b31da9f653c9"
      },
      "source": [
        "df = pd.read_csv('/content/drive/My Drive/Harassment_Cleaned_tweets.csv')\n",
        "df.head()"
      ],
      "execution_count": 18,
      "outputs": [
        {
          "output_type": "execute_result",
          "data": {
            "text/html": [
              "<div>\n",
              "<style scoped>\n",
              "    .dataframe tbody tr th:only-of-type {\n",
              "        vertical-align: middle;\n",
              "    }\n",
              "\n",
              "    .dataframe tbody tr th {\n",
              "        vertical-align: top;\n",
              "    }\n",
              "\n",
              "    .dataframe thead th {\n",
              "        text-align: right;\n",
              "    }\n",
              "</style>\n",
              "<table border=\"1\" class=\"dataframe\">\n",
              "  <thead>\n",
              "    <tr style=\"text-align: right;\">\n",
              "      <th></th>\n",
              "      <th>Unnamed: 0</th>\n",
              "      <th>Key Word</th>\n",
              "      <th>Username</th>\n",
              "      <th>User_ID</th>\n",
              "      <th>Datetime</th>\n",
              "      <th>Favorite_count</th>\n",
              "      <th>Geo</th>\n",
              "      <th>Coordinates</th>\n",
              "      <th>Label</th>\n",
              "      <th>Text</th>\n",
              "      <th>Unnamed: 9</th>\n",
              "      <th>Unnamed: 10</th>\n",
              "      <th>Unnamed: 11</th>\n",
              "    </tr>\n",
              "  </thead>\n",
              "  <tbody>\n",
              "    <tr>\n",
              "      <th>0</th>\n",
              "      <td>704</td>\n",
              "      <td>ass</td>\n",
              "      <td>DeborahParr</td>\n",
              "      <td>1.330000e+18</td>\n",
              "      <td>11-11-2020 06:56</td>\n",
              "      <td>0</td>\n",
              "      <td>NaN</td>\n",
              "      <td>NaN</td>\n",
              "      <td>1</td>\n",
              "      <td>He’d have my phone wedged up his ass sideways.</td>\n",
              "      <td>NaN</td>\n",
              "      <td>NaN</td>\n",
              "      <td>NaN</td>\n",
              "    </tr>\n",
              "    <tr>\n",
              "      <th>1</th>\n",
              "      <td>1915</td>\n",
              "      <td>boobies</td>\n",
              "      <td>MaxZorin85</td>\n",
              "      <td>1.330000e+18</td>\n",
              "      <td>11-11-2020 07:35</td>\n",
              "      <td>4</td>\n",
              "      <td>NaN</td>\n",
              "      <td>NaN</td>\n",
              "      <td>0</td>\n",
              "      <td>Yep 100% agree and the same with severine in s...</td>\n",
              "      <td>NaN</td>\n",
              "      <td>NaN</td>\n",
              "      <td>NaN</td>\n",
              "    </tr>\n",
              "    <tr>\n",
              "      <th>2</th>\n",
              "      <td>2856</td>\n",
              "      <td>eat pussy</td>\n",
              "      <td>PRISJ1_</td>\n",
              "      <td>1.330000e+18</td>\n",
              "      <td>11-11-2020 10:36</td>\n",
              "      <td>0</td>\n",
              "      <td>NaN</td>\n",
              "      <td>NaN</td>\n",
              "      <td>1</td>\n",
              "      <td>Stop having sex with men that won’t eat your p...</td>\n",
              "      <td>NaN</td>\n",
              "      <td>NaN</td>\n",
              "      <td>NaN</td>\n",
              "    </tr>\n",
              "    <tr>\n",
              "      <th>3</th>\n",
              "      <td>2163</td>\n",
              "      <td>Breast Man</td>\n",
              "      <td>Teresamckenzy1</td>\n",
              "      <td>1.330000e+18</td>\n",
              "      <td>10-11-2020 20:52</td>\n",
              "      <td>0</td>\n",
              "      <td>NaN</td>\n",
              "      <td>NaN</td>\n",
              "      <td>1</td>\n",
              "      <td>When you see a sad man, just give him breast t...</td>\n",
              "      <td>NaN</td>\n",
              "      <td>NaN</td>\n",
              "      <td>NaN</td>\n",
              "    </tr>\n",
              "    <tr>\n",
              "      <th>4</th>\n",
              "      <td>2852</td>\n",
              "      <td>eat pussy</td>\n",
              "      <td>sj__vazquez</td>\n",
              "      <td>1.330000e+18</td>\n",
              "      <td>11-11-2020 10:42</td>\n",
              "      <td>0</td>\n",
              "      <td>NaN</td>\n",
              "      <td>NaN</td>\n",
              "      <td>1</td>\n",
              "      <td>We can't be together if you don't eat pussy</td>\n",
              "      <td>NaN</td>\n",
              "      <td>NaN</td>\n",
              "      <td>NaN</td>\n",
              "    </tr>\n",
              "  </tbody>\n",
              "</table>\n",
              "</div>"
            ],
            "text/plain": [
              "   Unnamed: 0    Key Word        Username  ...  Unnamed: 9 Unnamed: 10  Unnamed: 11\n",
              "0         704         ass     DeborahParr  ...         NaN         NaN          NaN\n",
              "1        1915     boobies      MaxZorin85  ...         NaN         NaN          NaN\n",
              "2        2856   eat pussy         PRISJ1_  ...         NaN         NaN          NaN\n",
              "3        2163  Breast Man  Teresamckenzy1  ...         NaN         NaN          NaN\n",
              "4        2852   eat pussy     sj__vazquez  ...         NaN         NaN          NaN\n",
              "\n",
              "[5 rows x 13 columns]"
            ]
          },
          "metadata": {
            "tags": []
          },
          "execution_count": 18
        }
      ]
    },
    {
      "cell_type": "markdown",
      "metadata": {
        "id": "1YhlneiEHzB8"
      },
      "source": [
        "##Partitioning"
      ]
    },
    {
      "cell_type": "markdown",
      "metadata": {
        "id": "EGWafcsLH11y"
      },
      "source": [
        "###IID"
      ]
    },
    {
      "cell_type": "code",
      "metadata": {
        "id": "rPIyHBVTFifB"
      },
      "source": [
        "def iid_partition(dataset, clients):\n",
        "  \"\"\"\n",
        "  I.I.D paritioning of data over clients\n",
        "  Shuffle the data\n",
        "  Split it between clients\n",
        "  \n",
        "  params:\n",
        "    - dataset (torch.utils.Dataset): Dataset containing the MNIST Images\n",
        "    - clients (int): Number of Clients to split the data between\n",
        "\n",
        "  returns:\n",
        "    - Dictionary of image indexes for each client\n",
        "  \"\"\"\n",
        "\n",
        "  num_items_per_client = int(len(dataset)/clients)\n",
        "  client_dict = {}\n",
        "  image_idxs = [i for i in range(len(dataset))]\n",
        "\n",
        "  for i in range(clients):\n",
        "    client_dict[i] = set(np.random.choice(image_idxs, num_items_per_client, replace=False))\n",
        "    image_idxs = list(set(image_idxs) - client_dict[i])\n",
        "\n",
        "  return client_dict"
      ],
      "execution_count": 19,
      "outputs": []
    },
    {
      "cell_type": "markdown",
      "metadata": {
        "id": "1hhMk0QAH4kr"
      },
      "source": [
        "###Non-IID"
      ]
    },
    {
      "cell_type": "code",
      "metadata": {
        "id": "8Vr78-GMFm9p"
      },
      "source": [
        "def non_iid_partition(dataset, clients, total_shards, shards_size, num_shards_per_client):\n",
        "  \"\"\"\n",
        "  non I.I.D parititioning of data over clients\n",
        "  Sort the data by the digit label\n",
        "  Divide the data into N shards of size S\n",
        "  Each of the clients will get X shards\n",
        "\n",
        "  params:\n",
        "    - dataset (torch.utils.Dataset): Dataset containing the MNIST Images\n",
        "    - clients (int): Number of Clients to split the data between\n",
        "    - total_shards (int): Number of shards to partition the data in\n",
        "    - shards_size (int): Size of each shard \n",
        "    - num_shards_per_client (int): Number of shards of size shards_size that each client receives\n",
        "\n",
        "  returns:\n",
        "    - Dictionary of image indexes for each client\n",
        "  \"\"\"\n",
        "  \n",
        "  shard_idxs = [i for i in range(total_shards)]\n",
        "  client_dict = {i: np.array([], dtype='int64') for i in range(clients)}\n",
        "  idxs = np.arange(len(dataset))\n",
        "  data_labels = dataset.get_labels()\n",
        "\n",
        "  # sort the labels\n",
        "  label_idxs = np.vstack((idxs, data_labels))\n",
        "  label_idxs = label_idxs[:, label_idxs[1,:].argsort()]\n",
        "  idxs = label_idxs[0,:]\n",
        "\n",
        "  # divide the data into total_shards of size shards_size\n",
        "  # assign num_shards_per_client to each client\n",
        "  for i in range(clients):\n",
        "    rand_set = set(np.random.choice(shard_idxs, num_shards_per_client, replace=False))\n",
        "    shard_idxs = list(set(shard_idxs) - rand_set)\n",
        "\n",
        "    for rand in rand_set:\n",
        "      client_dict[i] = np.concatenate((client_dict[i], idxs[rand*shards_size:(rand+1)*shards_size]), axis=0)\n",
        "  \n",
        "  return client_dict"
      ],
      "execution_count": 20,
      "outputs": []
    },
    {
      "cell_type": "code",
      "metadata": {
        "id": "oBavKNvISnMS"
      },
      "source": [
        ""
      ],
      "execution_count": 20,
      "outputs": []
    },
    {
      "cell_type": "markdown",
      "metadata": {
        "id": "MbYgMVAcTWXC"
      },
      "source": [
        "# MAIN"
      ]
    },
    {
      "cell_type": "markdown",
      "metadata": {
        "id": "NvHtHWHsT5E3"
      },
      "source": [
        "## MODELS"
      ]
    },
    {
      "cell_type": "code",
      "metadata": {
        "id": "qp1ABLx_5jTK"
      },
      "source": [
        "# Importing BERT-base pretrained model\n",
        "bert = AutoModel.from_pretrained('albert-base-v2')\n",
        "# Load the BERT tokenizer\n",
        "tokenizer = AutoTokenizer.from_pretrained('albert-base-v2')"
      ],
      "execution_count": 21,
      "outputs": []
    },
    {
      "cell_type": "code",
      "metadata": {
        "id": "mcAr1VZ_vX7B"
      },
      "source": [
        "# Model Architecture\n",
        "\n",
        "class BERT_Arch(nn.Module):\n",
        "\n",
        "    def __init__(self, bert):\n",
        "      \n",
        "      super(BERT_Arch, self).__init__()\n",
        "\n",
        "      self.bert = bert \n",
        "      \n",
        "      # Dropout layer\n",
        "      self.dropout = nn.Dropout(0.1)\n",
        "      \n",
        "      # Relu activation function\n",
        "      self.relu =  nn.ReLU()\n",
        "\n",
        "      # Dense layer 1\n",
        "      self.fc1 = nn.Linear(768,512)\n",
        "      \n",
        "      # Dense layer 2 (Output layer)\n",
        "      self.fc2 = nn.Linear(512,2)\n",
        "\n",
        "      # Softmax activation function\n",
        "      self.softmax = nn.LogSoftmax(dim=1)\n",
        "\n",
        "    # Define the forward pass\n",
        "    def forward(self, sent_id, mask):\n",
        "\n",
        "      # Pass the inputs to the model  \n",
        "      _, cls_hs = self.bert(sent_id, attention_mask=mask)\n",
        "      \n",
        "      x = self.fc1(cls_hs)\n",
        "\n",
        "      x = self.relu(x)\n",
        "\n",
        "      x = self.dropout(x)\n",
        "\n",
        "      # Output layer\n",
        "      x = self.fc2(x)\n",
        "      \n",
        "      # Apply softmax activation\n",
        "      x = self.softmax(x)\n",
        "\n",
        "      return x"
      ],
      "execution_count": 22,
      "outputs": []
    },
    {
      "cell_type": "code",
      "metadata": {
        "id": "4oDoBoYdvay8",
        "colab": {
          "base_uri": "https://localhost:8080/"
        },
        "outputId": "783d021b-9222-4bb7-ea19-1cc6fc9ffe93"
      },
      "source": [
        "# Pass the pre-trained BERT to our define architecture\n",
        "model = BERT_Arch(bert)\n",
        "\n",
        "# Push the model to GPU\n",
        "model = model.to(device)\n",
        "model"
      ],
      "execution_count": 23,
      "outputs": [
        {
          "output_type": "execute_result",
          "data": {
            "text/plain": [
              "BERT_Arch(\n",
              "  (bert): AlbertModel(\n",
              "    (embeddings): AlbertEmbeddings(\n",
              "      (word_embeddings): Embedding(30000, 128, padding_idx=0)\n",
              "      (position_embeddings): Embedding(512, 128)\n",
              "      (token_type_embeddings): Embedding(2, 128)\n",
              "      (LayerNorm): LayerNorm((128,), eps=1e-12, elementwise_affine=True)\n",
              "      (dropout): Dropout(p=0, inplace=False)\n",
              "    )\n",
              "    (encoder): AlbertTransformer(\n",
              "      (embedding_hidden_mapping_in): Linear(in_features=128, out_features=768, bias=True)\n",
              "      (albert_layer_groups): ModuleList(\n",
              "        (0): AlbertLayerGroup(\n",
              "          (albert_layers): ModuleList(\n",
              "            (0): AlbertLayer(\n",
              "              (full_layer_layer_norm): LayerNorm((768,), eps=1e-12, elementwise_affine=True)\n",
              "              (attention): AlbertAttention(\n",
              "                (query): Linear(in_features=768, out_features=768, bias=True)\n",
              "                (key): Linear(in_features=768, out_features=768, bias=True)\n",
              "                (value): Linear(in_features=768, out_features=768, bias=True)\n",
              "                (dropout): Dropout(p=0, inplace=False)\n",
              "                (dense): Linear(in_features=768, out_features=768, bias=True)\n",
              "                (LayerNorm): LayerNorm((768,), eps=1e-12, elementwise_affine=True)\n",
              "              )\n",
              "              (ffn): Linear(in_features=768, out_features=3072, bias=True)\n",
              "              (ffn_output): Linear(in_features=3072, out_features=768, bias=True)\n",
              "            )\n",
              "          )\n",
              "        )\n",
              "      )\n",
              "    )\n",
              "    (pooler): Linear(in_features=768, out_features=768, bias=True)\n",
              "    (pooler_activation): Tanh()\n",
              "  )\n",
              "  (dropout): Dropout(p=0.1, inplace=False)\n",
              "  (relu): ReLU()\n",
              "  (fc1): Linear(in_features=768, out_features=512, bias=True)\n",
              "  (fc2): Linear(in_features=512, out_features=2, bias=True)\n",
              "  (softmax): LogSoftmax(dim=1)\n",
              ")"
            ]
          },
          "metadata": {
            "tags": []
          },
          "execution_count": 23
        }
      ]
    },
    {
      "cell_type": "code",
      "metadata": {
        "colab": {
          "base_uri": "https://localhost:8080/"
        },
        "id": "SJWgqL5dOMns",
        "outputId": "0df9cb15-5844-4e17-ebc3-7bf6d11db7c8"
      },
      "source": [
        "trainable_layers = [model.fc1, model.fc2]\n",
        "total_params = 0\n",
        "trainable_params = 0\n",
        "\n",
        "for p in model.parameters():\n",
        "        p.requires_grad = False\n",
        "        total_params += p.numel()\n",
        "\n",
        "for layer in trainable_layers:\n",
        "    for p in layer.parameters():\n",
        "        p.requires_grad = True\n",
        "        trainable_params += p.numel()\n",
        "\n",
        "print(f\"Total parameters count: {total_params}\") # ~125M\n",
        "print(f\"Trainable parameters count: {trainable_params}\") # ~0.5M"
      ],
      "execution_count": 24,
      "outputs": [
        {
          "output_type": "stream",
          "text": [
            "Total parameters count: 12078338\n",
            "Trainable parameters count: 394754\n"
          ],
          "name": "stdout"
        }
      ]
    },
    {
      "cell_type": "code",
      "metadata": {
        "id": "eJYVU02b4DjQ"
      },
      "source": [
        "#Initialization\n",
        "MAX_LEN = 256\n",
        "TRAIN_BATCH_SIZE = 8\n",
        "VALID_BATCH_SIZE = 2\n",
        "#EPOCHS = 10\n",
        "LEARNING_RATE = 1e-05\n",
        "#tokenizer = RobertaTokenizer.from_pretrained('roberta-base', truncation=True, do_lower_case=True)"
      ],
      "execution_count": 25,
      "outputs": []
    },
    {
      "cell_type": "code",
      "metadata": {
        "id": "oOV8C2S54FXw"
      },
      "source": [
        "#The class is defined to accept the Dataframe as input and generate tokenized output that is used by the DistilBERT model for training.\n",
        "#The tokenizer uses the encode_plus method to perform tokenization and generate the necessary outputs, namely: ids, attention_mask\n",
        "class Triage(Dataset):\n",
        "    def __init__(self, dataframe, tokenizer, max_len):\n",
        "        self.len = len(dataframe)\n",
        "        self.data = dataframe\n",
        "        self.tokenizer = tokenizer\n",
        "        self.max_len = max_len\n",
        "\n",
        "    def get_labels(self):\n",
        "        l = []\n",
        "        for i in range(self.len):\n",
        "          title = str(self.data.Text[i])\n",
        "          title = \" \".join(title.split())\n",
        "          inputs = self.tokenizer.encode_plus(\n",
        "              title,\n",
        "              None,\n",
        "              add_special_tokens=True,\n",
        "              max_length=self.max_len,\n",
        "              padding='max_length',\n",
        "              return_token_type_ids=True,\n",
        "              truncation=True\n",
        "          )\n",
        "\n",
        "          l.append(self.data.Label[i])\n",
        "\n",
        "        return l     \n",
        "\n",
        "        \n",
        "    def __getitem__(self, index):\n",
        "        title = str(self.data.Text[index])\n",
        "        title = \" \".join(title.split())\n",
        "        inputs = self.tokenizer.encode_plus(\n",
        "            title,\n",
        "            None,\n",
        "            add_special_tokens=True,\n",
        "            max_length=self.max_len,\n",
        "            padding='max_length',\n",
        "            return_token_type_ids=True,\n",
        "            truncation=True\n",
        "        )\n",
        "        ids = inputs['input_ids']\n",
        "        mask = inputs['attention_mask']\n",
        "\n",
        "        return {\n",
        "            'ids': torch.tensor(ids, dtype=torch.long),\n",
        "            'mask': torch.tensor(mask, dtype=torch.long),\n",
        "            'targets': torch.tensor(self.data.Label[index], dtype=torch.long)\n",
        "        } \n",
        "    \n",
        "    def __len__(self):\n",
        "        return self.len"
      ],
      "execution_count": 26,
      "outputs": []
    },
    {
      "cell_type": "code",
      "metadata": {
        "id": "_eIAvHupTiBO"
      },
      "source": [
        "class CustomDataset(Dataset):\n",
        "  def __init__(self, dataset, tokenizer, max_len, idxs):\n",
        "      self.data = dataset\n",
        "      self.idxs = list(idxs)\n",
        "      self.tokenizer = tokenizer\n",
        "      self.max_len = max_len\n",
        "      \n",
        "  # def __init__(self, dataset, idxs):\n",
        "  #     self.dataset = dataset\n",
        "  #     self.idxs = list(idxs)\n",
        "\n",
        "  def __len__(self):\n",
        "      return len(self.idxs)\n",
        "\n",
        "  def __getitem__(self, index):\n",
        "      title = str(self.data.Text[index])\n",
        "      title = \" \".join(title.split())\n",
        "      inputs = self.tokenizer.encode_plus(\n",
        "          title,\n",
        "          None,\n",
        "          add_special_tokens=True,\n",
        "          max_length=self.max_len,\n",
        "          padding='max_length',\n",
        "          return_token_type_ids=True,\n",
        "          truncation=True\n",
        "      )\n",
        "      ids = inputs['input_ids']\n",
        "      mask = inputs['attention_mask']\n",
        "\n",
        "      return {\n",
        "          'ids': torch.tensor(ids, dtype=torch.long),\n",
        "          'mask': torch.tensor(mask, dtype=torch.long),\n",
        "          'targets': torch.tensor(self.data.Label[index], dtype=torch.long)\n",
        "      } \n",
        "\n",
        "class ClientUpdate(object):\n",
        "  def __init__(self, dataset, model, tokenizer, loss_function, optimizer, idxs, epochs, MAX_LEN=256):\n",
        "    self.train_loader = DataLoader(CustomDataset(dataset, tokenizer, MAX_LEN, idxs), batch_size=8, shuffle=True)\n",
        "    self.model = model\n",
        "    self.dataset = dataset\n",
        "    self.loss_function = loss_function\n",
        "    self.optimizer = optimizer\n",
        "    self.epochs = epochs\n",
        "\n",
        "  # Function to calcuate the accuracy of the model\n",
        "\n",
        "  def calcuate_accu(self, big_idx, targets):\n",
        "    n_correct = (big_idx==targets).sum().item()\n",
        "    return n_correct\n",
        "\n",
        "  def train(self):\n",
        "\n",
        "    epochloss, epochacc = [], []\n",
        "\n",
        "    for epoch in range(1, self.epochs+1):\n",
        "      tr_loss = 0\n",
        "      n_correct = 0\n",
        "      nb_tr_steps = 0\n",
        "      nb_tr_examples = 0\n",
        "      losses = []\n",
        "      model.train()\n",
        "      for _,data in tqdm(enumerate(training_loader, 0)):\n",
        "          ids = data['ids'].to(device, dtype = torch.long)\n",
        "          mask = data['mask'].to(device, dtype = torch.long)\n",
        "          #token_type_ids = data['token_type_ids'].to(device, dtype = torch.long)\n",
        "          targets = data['targets'].to(device, dtype = torch.long)\n",
        "\n",
        "          outputs = model(ids, mask)\n",
        "          loss = loss_function(outputs, targets)\n",
        "          tr_loss += loss.item()\n",
        "          big_val, big_idx = torch.max(outputs.data, dim=1)\n",
        "          n_correct += self.calcuate_accu(big_idx, targets)\n",
        "\n",
        "          nb_tr_steps += 1\n",
        "          nb_tr_examples+=targets.size(0)\n",
        "          \n",
        "          if _%2000==0:\n",
        "              loss_step = tr_loss/nb_tr_steps\n",
        "              accu_step = (n_correct*100)/nb_tr_examples \n",
        "              print(f\"Training Loss per 5000 steps: {loss_step}\")\n",
        "              print(f\"Training Accuracy per 5000 steps: {accu_step}\")\n",
        "\n",
        "          self.optimizer.zero_grad()\n",
        "          loss.backward()\n",
        "          losses.append(loss.item())\n",
        "          # # When using GPU\n",
        "          if (_ + 1) % 2000 == 0 or _ == len(training_loader) - 1:\n",
        "              self.optimizer.step()\n",
        "          else:\n",
        "              self.optimizer.virtual_step()\n",
        "\n",
        "          if _ > 0 and _ % 2000 == 0:\n",
        "                train_loss = np.mean(losses)\n",
        "                eps, alpha = self.optimizer.privacy_engine.get_privacy_spent(DELTA)\n",
        "\n",
        "                eval_accuracy,eval_loss = valid(model, testing_loader)\n",
        "\n",
        "                print(\n",
        "                    f\"Epoch: {epoch} | \"\n",
        "                    f\"Step: {_} | \"\n",
        "                    f\"Train loss: {train_loss:.3f} | \"\n",
        "                    f\"Eval loss: {eval_loss:.3f} | \"\n",
        "                    f\"Eval accuracy: {eval_accuracy:.3f} | \"\n",
        "                    f\"ɛ: {eps:.2f} (α: {alpha})\"\n",
        "                )\n",
        "\n",
        "          \n",
        "      print(f'The Total Accuracy for Epoch {epoch}: {(n_correct*100)/nb_tr_examples}')\n",
        "      epoch_loss = tr_loss/nb_tr_steps\n",
        "      epoch_accu = (n_correct*100)/nb_tr_examples\n",
        "      print(f\"Training Loss Epoch: {epoch_loss}\")\n",
        "      print(f\"Training Accuracy Epoch: {epoch_accu}\")\n",
        "      epochacc.append(epoch_accu)\n",
        "      epochloss.append(epoch_loss)\n",
        "\n",
        "\n",
        "    return model.state_dict(), epochacc[-1], epochloss[-1]"
      ],
      "execution_count": 27,
      "outputs": []
    },
    {
      "cell_type": "code",
      "metadata": {
        "id": "NC6o9ggzVCNW"
      },
      "source": [
        "def training(model, rounds, ds, data_dict, loss_function, lr, C, K, E, plt_color):\n",
        "  \"\"\"\n",
        "  Function implements the Federated Averaging Algorithm from the FedAvg paper.\n",
        "  Specifically, this function is used for the server side training and weight update\n",
        "\n",
        "  Params:\n",
        "    - model:           PyTorch model to train\n",
        "    - rounds:          Number of communication rounds for the client update\n",
        "    - batch_size:      Batch size for client update training\n",
        "    - lr:              Learning rate used for client update training\n",
        "    - ds:              Dataset used for training\n",
        "    - data_dict:       Type of data partition used for training (IID or non-IID)\n",
        "    - C:               Fraction of clients randomly chosen to perform computation on each round\n",
        "    - K:               Total number of clients\n",
        "    - E:               Number of training passes each client makes over its local dataset per round\n",
        "    - tb_writer_name:  Directory name to save the tensorboard logs\n",
        "  Returns:\n",
        "    - model:           Trained model on the server\n",
        "  \"\"\"\n",
        "\n",
        "  # global model weights\n",
        "  global_weights = model.state_dict()\n",
        "\n",
        "  # training loss\n",
        "  train_loss,train_acc = [], []\n",
        "  \n",
        "  optimizer = torch.optim.AdamW(params =  model.parameters(), lr=lr)\n",
        "  \n",
        "  # measure time\n",
        "  start = time.time()\n",
        "\n",
        "  LOGGING_INTERVAL = 100 # once every how many steps we run evaluation cycle and report metrics\n",
        "  EPSILON = 0.5\n",
        "  DELTA = 1 / len(training_set) # Parameter for privacy accounting. Probability of not achieving privacy guarantees\n",
        "\n",
        "  SAMPLE_RATE = 8/len(ds)\n",
        "  MAX_GRAD_NORM = 0.1\n",
        "  VIRTUAL_BATCH_SIZE = 32\n",
        "  assert VIRTUAL_BATCH_SIZE % 8 == 0 # VIRTUAL_BATCH_SIZE should be divisible by BATCH_SIZE\n",
        "  N_ACCUMULATION_STEPS = int(VIRTUAL_BATCH_SIZE / 8)\n",
        "\n",
        "  privacy_engine = PrivacyEngine(\n",
        "      module=model,\n",
        "      sample_rate=SAMPLE_RATE * N_ACCUMULATION_STEPS,\n",
        "      target_delta = DELTA,\n",
        "      target_epsilon = EPSILON, \n",
        "      epochs = E,\n",
        "      max_grad_norm=MAX_GRAD_NORM,\n",
        "  )\n",
        "\n",
        "  privacy_engine.attach(optimizer)\n",
        "    \n",
        "\n",
        "  for curr_round in range(1, rounds+1):\n",
        "    w, local_loss,local_acc = [], [], []\n",
        "\n",
        "    m = max(int(C*K), 1)\n",
        "    \n",
        "    S_t = np.random.choice(range(K), m, replace=False)\n",
        "    for k in S_t:\n",
        "      local_update = ClientUpdate(dataset=ds, model=model, tokenizer=tokenizer, loss_function=loss_function, \\\n",
        "                                  optimizer=optimizer, epochs=E, idxs=data_dict[k])\n",
        "      weights, acc, loss = local_update.train()\n",
        "\n",
        "      w.append(copy.deepcopy(weights))\n",
        "      local_loss.append(copy.deepcopy(loss))\n",
        "      local_acc.append(copy.deepcopy(acc))\n",
        "\n",
        "    # updating the global weights\n",
        "    weights_avg = copy.deepcopy(w[0])\n",
        "    for k in weights_avg.keys():\n",
        "      for i in range(1, len(w)):\n",
        "        weights_avg[k] += w[i][k]\n",
        "\n",
        "      weights_avg[k] = torch.div(weights_avg[k], len(w))\n",
        "\n",
        "    global_weights = weights_avg\n",
        "\n",
        "    # move the updated weights to our model state dict\n",
        "    model.load_state_dict(global_weights)\n",
        "\n",
        "    # loss\n",
        "    loss_avg = sum(local_loss) / len(local_loss)\n",
        "    acc_avg = sum(local_acc) / len(local_acc)\n",
        "    print('Round: {}... \\tAverage Loss: {}'.format(curr_round, round(loss_avg, 3)))\n",
        "    print('Round: {}... \\tAverage Accuracy: {}'.format(curr_round, round(acc_avg, 3)))\n",
        "    train_loss.append(loss_avg)\n",
        "    train_acc.append(acc_avg)\n",
        "\n",
        "  end = time.time()\n",
        "  \n",
        "  fig, ax = plt.subplots()\n",
        "  x_axis = np.arange(1, rounds+1)\n",
        "  # y_axis = np.array(train_loss)\n",
        "  # ax.plot(x_axis, y_axis, 'tab:'+plt_color)\n",
        "\n",
        "  # ax.set(xlabel='Number of Rounds', ylabel='Train Loss',\n",
        "  #      title=\"Training Loss\")\n",
        "  \n",
        "  y_axis = np.array(train_acc)\n",
        "  ax.plot(x_axis, y_axis, 'tab:'+plt_color)\n",
        "\n",
        "  ax.set(xlabel='Number of Rounds', ylabel='Train Accuracy',\n",
        "       title=\"Training Accuracy vs. Global rounds\")\n",
        "  ax.grid()\n",
        "  #fig.savefig(plt_title+'.jpg', format='jpg')\n",
        "  print(\"Training Done!\")\n",
        "  print(\"Total time taken to Train: {}\".format(end-start))\n",
        "  \n",
        "  return model, train_acc"
      ],
      "execution_count": 28,
      "outputs": []
    },
    {
      "cell_type": "code",
      "metadata": {
        "colab": {
          "base_uri": "https://localhost:8080/"
        },
        "id": "dfPQekmI4JCv",
        "outputId": "43d378ca-16e9-45f9-93e8-099295b86b9c"
      },
      "source": [
        "# Creating the dataset and dataloader for the neural network\n",
        "\n",
        "train_size = 0.8\n",
        "train_dataset=df.sample(frac=train_size,random_state=200)\n",
        "test_dataset=df.drop(train_dataset.index).reset_index(drop=True)\n",
        "train_dataset = train_dataset.reset_index(drop=True)\n",
        "\n",
        "\n",
        "print(\"FULL Dataset: {}\".format(df.shape))\n",
        "print(\"TRAIN Dataset: {}\".format(train_dataset.shape))\n",
        "print(\"TEST Dataset: {}\".format(test_dataset.shape))\n",
        "\n",
        "training_set = Triage(train_dataset, tokenizer, MAX_LEN)\n",
        "testing_set = Triage(test_dataset, tokenizer, MAX_LEN)"
      ],
      "execution_count": 29,
      "outputs": [
        {
          "output_type": "stream",
          "text": [
            "FULL Dataset: (3604, 13)\n",
            "TRAIN Dataset: (2883, 13)\n",
            "TEST Dataset: (721, 13)\n"
          ],
          "name": "stdout"
        }
      ]
    },
    {
      "cell_type": "code",
      "metadata": {
        "id": "4DIl0v0P4Lss"
      },
      "source": [
        "train_params = {'batch_size': TRAIN_BATCH_SIZE,\n",
        "                'shuffle': True,\n",
        "                'num_workers': 0\n",
        "                }\n",
        "\n",
        "test_params = {'batch_size': VALID_BATCH_SIZE,\n",
        "                'shuffle': True,\n",
        "                'num_workers': 0\n",
        "                }\n",
        "\n",
        "training_loader = DataLoader(training_set, **train_params)\n",
        "testing_loader = DataLoader(testing_set, **test_params)"
      ],
      "execution_count": 30,
      "outputs": []
    },
    {
      "cell_type": "code",
      "metadata": {
        "colab": {
          "base_uri": "https://localhost:8080/"
        },
        "id": "zW4QTZ4Xtb9e",
        "outputId": "5aa009d1-4b6b-4468-dd4c-97ee1f6cec3e"
      },
      "source": [
        "# number of training rounds\n",
        "rounds = 3\n",
        "# client fraction\n",
        "C = 0.5\n",
        "# number of clients\n",
        "K = 10\n",
        "# number of training passes on local dataset for each round\n",
        "E = 3\n",
        "# batch size\n",
        "batch_size = 10\n",
        "# learning Rate\n",
        "lr=1e-05\n",
        "# dict containing different type of data partition\n",
        "data_dict = iid_partition(training_set, 10)\n",
        "d = {}\n",
        "loss_function = torch.nn.CrossEntropyLoss()\n",
        "\n",
        "if torch.cuda.is_available():\n",
        "  model.cuda()\n",
        "\n",
        "bert_iid_trained, train_acc = training(model, rounds, train_dataset, data_dict, loss_function, lr, C, K, E, \"orange\")"
      ],
      "execution_count": null,
      "outputs": [
        {
          "output_type": "stream",
          "text": [
            "/usr/local/lib/python3.7/dist-packages/opacus/privacy_engine.py:523: UserWarning: A ``sample_rate`` has been provided.Thus, the provided ``batch_size``and ``sample_size`` will be ignored.\n",
            "  \"A ``sample_rate`` has been provided.\"\n",
            "/usr/local/lib/python3.7/dist-packages/opacus/privacy_engine.py:195: UserWarning: Secure RNG turned off. This is perfectly fine for experimentation as it allows for much faster training performance, but remember to turn it on and retrain one last time before production with ``secure_rng`` turned on.\n",
            "  \"Secure RNG turned off. This is perfectly fine for experimentation as it allows \"\n",
            "0it [00:00, ?it/s]/usr/local/lib/python3.7/dist-packages/torch/nn/modules/module.py:795: UserWarning: Using a non-full backward hook when the forward contains multiple autograd Nodes is deprecated and will be removed in future versions. This hook will be missing some grad_input. Please use register_full_backward_hook to get the documented behavior.\n",
            "  warnings.warn(\"Using a non-full backward hook when the forward contains multiple autograd Nodes \"\n",
            "1it [00:00,  1.78it/s]"
          ],
          "name": "stderr"
        },
        {
          "output_type": "stream",
          "text": [
            "Training Loss per 5000 steps: 0.6657230854034424\n",
            "Training Accuracy per 5000 steps: 62.5\n"
          ],
          "name": "stdout"
        },
        {
          "output_type": "stream",
          "text": [
            "309it [01:31,  3.40it/s]"
          ],
          "name": "stderr"
        }
      ]
    },
    {
      "cell_type": "code",
      "metadata": {
        "id": "TSimnCo6Sg1t"
      },
      "source": [
        ""
      ],
      "execution_count": null,
      "outputs": []
    },
    {
      "cell_type": "code",
      "metadata": {
        "id": "c6TxASf-2aK5"
      },
      "source": [
        "def calcuate_accuracy(big_idx, targets):\n",
        "  n_correct = (big_idx==targets).sum().item()\n",
        "  return n_correct"
      ],
      "execution_count": null,
      "outputs": []
    },
    {
      "cell_type": "code",
      "metadata": {
        "id": "KfihyQ6Btb7I"
      },
      "source": [
        "#Testing the trained model\n",
        "\n",
        "def valid(model, testing_loader, loss_function):\n",
        "    model.eval()\n",
        "    n_correct = 0; n_wrong = 0; total = 0; tr_loss=0; nb_tr_steps=0; nb_tr_examples=0\n",
        "    with torch.no_grad():\n",
        "        for _, data in tqdm(enumerate(testing_loader, 0)):\n",
        "            ids = data['ids'].to(device, dtype = torch.long)\n",
        "            mask = data['mask'].to(device, dtype = torch.long)\n",
        "            #token_type_ids = data['token_type_ids'].to(device, dtype=torch.long)\n",
        "            targets = data['targets'].to(device, dtype = torch.long)\n",
        "            outputs = model(ids, mask)\n",
        "            loss = loss_function(outputs, targets)\n",
        "            tr_loss += loss.item()\n",
        "            big_val, big_idx = torch.max(outputs.data, dim=1)\n",
        "            n_correct += calcuate_accuracy(big_idx, targets)\n",
        "\n",
        "            nb_tr_steps += 1\n",
        "            nb_tr_examples+=targets.size(0)\n",
        "            \n",
        "            if _%5000==0:\n",
        "                loss_step = tr_loss/nb_tr_steps\n",
        "                accu_step = (n_correct*100)/nb_tr_examples\n",
        "                print(f\"Validation Loss per 100 steps: {loss_step}\")\n",
        "                print(f\"Validation Accuracy per 100 steps: {accu_step}\")\n",
        "    epoch_loss = tr_loss/nb_tr_steps\n",
        "    epoch_accu = (n_correct*100)/nb_tr_examples\n",
        "    print(f\"Validation Loss Epoch: {epoch_loss}\")\n",
        "    print(f\"Validation Accuracy Epoch: {epoch_accu}\")\n",
        "    \n",
        "    return epoch_accu\n"
      ],
      "execution_count": null,
      "outputs": []
    },
    {
      "cell_type": "code",
      "metadata": {
        "id": "K7PrSwkDrK-c"
      },
      "source": [
        "import pickle"
      ],
      "execution_count": null,
      "outputs": []
    },
    {
      "cell_type": "code",
      "metadata": {
        "id": "DEWigxtmVCKn"
      },
      "source": [
        "print('This is the validation section to print the accuracy and see how it performs')\n",
        "print('Here we are leveraging on the dataloader crearted for the validation dataset, the approcah is using more of pytorch')\n",
        "\n",
        "acc = valid(bert_iid_trained, testing_loader, loss_function)\n",
        "print(\"Accuracy on test data = %0.2f%%\" % acc)\n",
        "\n",
        "d['train_acc'] = train_acc\n",
        "d['test_acc'] = acc\n",
        "\n",
        "\n",
        "with open(f'/content/drive/My Drive/Albert/Sexual_Harassment/DPFLALBERT_Harassment_eps0_5.pkl', 'wb') as file:\n",
        "  pickle.dump(d, file)"
      ],
      "execution_count": null,
      "outputs": []
    },
    {
      "cell_type": "code",
      "metadata": {
        "colab": {
          "base_uri": "https://localhost:8080/",
          "height": 1000
        },
        "id": "XAc_W8Yn0w8g",
        "outputId": "f1a4dc33-b5b5-4be2-dd67-5c9f2f823d63"
      },
      "source": [
        "# number of training rounds\n",
        "rounds = 3\n",
        "# client fraction\n",
        "C = 0.5\n",
        "# number of clients\n",
        "K = 10\n",
        "# number of training passes on local dataset for each round\n",
        "E = 3\n",
        "# batch size\n",
        "batch_size = 10\n",
        "# learning Rate\n",
        "lr=1e-05\n",
        "# dict containing different type of data partition\n",
        "data_dict = non_iid_partition(training_set, 10, 240, 10, 10)\n",
        "#iid_partition(training_set, 10)\n",
        "d={}\n",
        "loss_function = torch.nn.CrossEntropyLoss()\n",
        "\n",
        "if torch.cuda.is_available():\n",
        "  model.cuda()\n",
        "\n",
        "bert_non_iid_trained, train_acc = training(model, rounds, train_dataset, data_dict, loss_function, lr, C, K, E, \"orange\")"
      ],
      "execution_count": null,
      "outputs": [
        {
          "output_type": "stream",
          "text": [
            "/usr/local/lib/python3.7/dist-packages/opacus/privacy_engine.py:523: UserWarning: A ``sample_rate`` has been provided.Thus, the provided ``batch_size``and ``sample_size`` will be ignored.\n",
            "  \"A ``sample_rate`` has been provided.\"\n",
            "/usr/local/lib/python3.7/dist-packages/opacus/privacy_engine.py:195: UserWarning: Secure RNG turned off. This is perfectly fine for experimentation as it allows for much faster training performance, but remember to turn it on and retrain one last time before production with ``secure_rng`` turned on.\n",
            "  \"Secure RNG turned off. This is perfectly fine for experimentation as it allows \"\n",
            "0it [00:00, ?it/s]/usr/local/lib/python3.7/dist-packages/torch/nn/modules/module.py:795: UserWarning: Using a non-full backward hook when the forward contains multiple autograd Nodes is deprecated and will be removed in future versions. This hook will be missing some grad_input. Please use register_full_backward_hook to get the documented behavior.\n",
            "  warnings.warn(\"Using a non-full backward hook when the forward contains multiple autograd Nodes \"\n",
            "1it [00:00,  2.78it/s]"
          ],
          "name": "stderr"
        },
        {
          "output_type": "stream",
          "text": [
            "Training Loss per 5000 steps: 0.7259150147438049\n",
            "Training Accuracy per 5000 steps: 37.5\n"
          ],
          "name": "stdout"
        },
        {
          "output_type": "stream",
          "text": [
            "310it [01:25,  3.64it/s]\n",
            "0it [00:00, ?it/s]"
          ],
          "name": "stderr"
        },
        {
          "output_type": "stream",
          "text": [
            "The Total Accuracy for Epoch 1: 31.005248284214776\n",
            "Training Loss Epoch: 0.7368929407288951\n",
            "Training Accuracy Epoch: 31.005248284214776\n"
          ],
          "name": "stdout"
        },
        {
          "output_type": "stream",
          "text": [
            "\r1it [00:00,  3.71it/s]"
          ],
          "name": "stderr"
        },
        {
          "output_type": "stream",
          "text": [
            "Training Loss per 5000 steps: 0.778868556022644\n",
            "Training Accuracy per 5000 steps: 12.5\n"
          ],
          "name": "stdout"
        },
        {
          "output_type": "stream",
          "text": [
            "310it [01:25,  3.63it/s]\n",
            "0it [00:00, ?it/s]"
          ],
          "name": "stderr"
        },
        {
          "output_type": "stream",
          "text": [
            "The Total Accuracy for Epoch 2: 30.11707710940654\n",
            "Training Loss Epoch: 0.7374415701435458\n",
            "Training Accuracy Epoch: 30.11707710940654\n"
          ],
          "name": "stdout"
        },
        {
          "output_type": "stream",
          "text": [
            "\r1it [00:00,  3.69it/s]"
          ],
          "name": "stderr"
        },
        {
          "output_type": "stream",
          "text": [
            "Training Loss per 5000 steps: 0.7232372760772705\n",
            "Training Accuracy per 5000 steps: 50.0\n"
          ],
          "name": "stdout"
        },
        {
          "output_type": "stream",
          "text": [
            "310it [01:25,  3.64it/s]\n",
            "0it [00:00, ?it/s]"
          ],
          "name": "stderr"
        },
        {
          "output_type": "stream",
          "text": [
            "The Total Accuracy for Epoch 3: 30.15744852644328\n",
            "Training Loss Epoch: 0.7371466521293887\n",
            "Training Accuracy Epoch: 30.15744852644328\n"
          ],
          "name": "stdout"
        },
        {
          "output_type": "stream",
          "text": [
            "\r1it [00:00,  3.61it/s]"
          ],
          "name": "stderr"
        },
        {
          "output_type": "stream",
          "text": [
            "Training Loss per 5000 steps: 0.6542865037918091\n",
            "Training Accuracy per 5000 steps: 50.0\n"
          ],
          "name": "stdout"
        },
        {
          "output_type": "stream",
          "text": [
            "310it [01:25,  3.63it/s]\n",
            "0it [00:00, ?it/s]"
          ],
          "name": "stderr"
        },
        {
          "output_type": "stream",
          "text": [
            "The Total Accuracy for Epoch 1: 29.632620104965685\n",
            "Training Loss Epoch: 0.7386578481043539\n",
            "Training Accuracy Epoch: 29.632620104965685\n"
          ],
          "name": "stdout"
        },
        {
          "output_type": "stream",
          "text": [
            "\r1it [00:00,  3.70it/s]"
          ],
          "name": "stderr"
        },
        {
          "output_type": "stream",
          "text": [
            "Training Loss per 5000 steps: 0.7528366446495056\n",
            "Training Accuracy per 5000 steps: 25.0\n"
          ],
          "name": "stdout"
        },
        {
          "output_type": "stream",
          "text": [
            "310it [01:25,  3.63it/s]\n",
            "0it [00:00, ?it/s]"
          ],
          "name": "stderr"
        },
        {
          "output_type": "stream",
          "text": [
            "The Total Accuracy for Epoch 2: 30.278562777553493\n",
            "Training Loss Epoch: 0.7371949103570754\n",
            "Training Accuracy Epoch: 30.278562777553493\n"
          ],
          "name": "stdout"
        },
        {
          "output_type": "stream",
          "text": [
            "\r1it [00:00,  3.65it/s]"
          ],
          "name": "stderr"
        },
        {
          "output_type": "stream",
          "text": [
            "Training Loss per 5000 steps: 0.7289296388626099\n",
            "Training Accuracy per 5000 steps: 37.5\n"
          ],
          "name": "stdout"
        },
        {
          "output_type": "stream",
          "text": [
            "310it [01:25,  3.63it/s]\n",
            "0it [00:00, ?it/s]"
          ],
          "name": "stderr"
        },
        {
          "output_type": "stream",
          "text": [
            "The Total Accuracy for Epoch 3: 29.30964876867178\n",
            "Training Loss Epoch: 0.7379899640237132\n",
            "Training Accuracy Epoch: 29.30964876867178\n"
          ],
          "name": "stdout"
        },
        {
          "output_type": "stream",
          "text": [
            "\r1it [00:00,  3.66it/s]"
          ],
          "name": "stderr"
        },
        {
          "output_type": "stream",
          "text": [
            "Training Loss per 5000 steps: 0.7846379280090332\n",
            "Training Accuracy per 5000 steps: 0.0\n"
          ],
          "name": "stdout"
        },
        {
          "output_type": "stream",
          "text": [
            "310it [01:25,  3.64it/s]\n",
            "0it [00:00, ?it/s]"
          ],
          "name": "stderr"
        },
        {
          "output_type": "stream",
          "text": [
            "The Total Accuracy for Epoch 1: 29.55187727089221\n",
            "Training Loss Epoch: 0.7381296703892369\n",
            "Training Accuracy Epoch: 29.55187727089221\n"
          ],
          "name": "stdout"
        },
        {
          "output_type": "stream",
          "text": [
            "\r1it [00:00,  3.75it/s]"
          ],
          "name": "stderr"
        },
        {
          "output_type": "stream",
          "text": [
            "Training Loss per 5000 steps: 0.7586052417755127\n",
            "Training Accuracy per 5000 steps: 25.0\n"
          ],
          "name": "stdout"
        },
        {
          "output_type": "stream",
          "text": [
            "310it [01:25,  3.64it/s]\n",
            "0it [00:00, ?it/s]"
          ],
          "name": "stderr"
        },
        {
          "output_type": "stream",
          "text": [
            "The Total Accuracy for Epoch 2: 30.036334275333065\n",
            "Training Loss Epoch: 0.736965948343277\n",
            "Training Accuracy Epoch: 30.036334275333065\n"
          ],
          "name": "stdout"
        },
        {
          "output_type": "stream",
          "text": [
            "\r1it [00:00,  3.63it/s]"
          ],
          "name": "stderr"
        },
        {
          "output_type": "stream",
          "text": [
            "Training Loss per 5000 steps: 0.7768765687942505\n",
            "Training Accuracy per 5000 steps: 25.0\n"
          ],
          "name": "stdout"
        },
        {
          "output_type": "stream",
          "text": [
            "310it [01:25,  3.63it/s]\n",
            "0it [00:00, ?it/s]"
          ],
          "name": "stderr"
        },
        {
          "output_type": "stream",
          "text": [
            "The Total Accuracy for Epoch 3: 31.005248284214776\n",
            "Training Loss Epoch: 0.7363879261478301\n",
            "Training Accuracy Epoch: 31.005248284214776\n"
          ],
          "name": "stdout"
        },
        {
          "output_type": "stream",
          "text": [
            "\r1it [00:00,  3.64it/s]"
          ],
          "name": "stderr"
        },
        {
          "output_type": "stream",
          "text": [
            "Training Loss per 5000 steps: 0.7578685283660889\n",
            "Training Accuracy per 5000 steps: 25.0\n"
          ],
          "name": "stdout"
        },
        {
          "output_type": "stream",
          "text": [
            "310it [01:25,  3.64it/s]\n",
            "0it [00:00, ?it/s]"
          ],
          "name": "stderr"
        },
        {
          "output_type": "stream",
          "text": [
            "The Total Accuracy for Epoch 1: 30.197819943480017\n",
            "Training Loss Epoch: 0.7379618158263545\n",
            "Training Accuracy Epoch: 30.197819943480017\n"
          ],
          "name": "stdout"
        },
        {
          "output_type": "stream",
          "text": [
            "\r1it [00:00,  3.71it/s]"
          ],
          "name": "stderr"
        },
        {
          "output_type": "stream",
          "text": [
            "Training Loss per 5000 steps: 0.7267207503318787\n",
            "Training Accuracy per 5000 steps: 25.0\n"
          ],
          "name": "stdout"
        },
        {
          "output_type": "stream",
          "text": [
            "310it [01:25,  3.63it/s]\n",
            "0it [00:00, ?it/s]"
          ],
          "name": "stderr"
        },
        {
          "output_type": "stream",
          "text": [
            "The Total Accuracy for Epoch 2: 30.76301978199435\n",
            "Training Loss Epoch: 0.7364211236276934\n",
            "Training Accuracy Epoch: 30.76301978199435\n"
          ],
          "name": "stdout"
        },
        {
          "output_type": "stream",
          "text": [
            "\r1it [00:00,  3.71it/s]"
          ],
          "name": "stderr"
        },
        {
          "output_type": "stream",
          "text": [
            "Training Loss per 5000 steps: 0.7749479413032532\n",
            "Training Accuracy per 5000 steps: 12.5\n"
          ],
          "name": "stdout"
        },
        {
          "output_type": "stream",
          "text": [
            "310it [01:24,  3.65it/s]\n",
            "0it [00:00, ?it/s]"
          ],
          "name": "stderr"
        },
        {
          "output_type": "stream",
          "text": [
            "The Total Accuracy for Epoch 3: 30.803391199031086\n",
            "Training Loss Epoch: 0.7369315751137272\n",
            "Training Accuracy Epoch: 30.803391199031086\n"
          ],
          "name": "stdout"
        },
        {
          "output_type": "stream",
          "text": [
            "\r1it [00:00,  3.76it/s]"
          ],
          "name": "stderr"
        },
        {
          "output_type": "stream",
          "text": [
            "Training Loss per 5000 steps: 0.714235782623291\n",
            "Training Accuracy per 5000 steps: 50.0\n"
          ],
          "name": "stdout"
        },
        {
          "output_type": "stream",
          "text": [
            "310it [01:25,  3.63it/s]\n",
            "0it [00:00, ?it/s]"
          ],
          "name": "stderr"
        },
        {
          "output_type": "stream",
          "text": [
            "The Total Accuracy for Epoch 1: 31.166733952361728\n",
            "Training Loss Epoch: 0.7368133817949603\n",
            "Training Accuracy Epoch: 31.166733952361728\n"
          ],
          "name": "stdout"
        },
        {
          "output_type": "stream",
          "text": [
            "\r1it [00:00,  3.77it/s]"
          ],
          "name": "stderr"
        },
        {
          "output_type": "stream",
          "text": [
            "Training Loss per 5000 steps: 0.7634075880050659\n",
            "Training Accuracy per 5000 steps: 12.5\n"
          ],
          "name": "stdout"
        },
        {
          "output_type": "stream",
          "text": [
            "310it [01:25,  3.64it/s]\n",
            "0it [00:00, ?it/s]"
          ],
          "name": "stderr"
        },
        {
          "output_type": "stream",
          "text": [
            "The Total Accuracy for Epoch 2: 30.238191360516755\n",
            "Training Loss Epoch: 0.7385817050933838\n",
            "Training Accuracy Epoch: 30.238191360516755\n"
          ],
          "name": "stdout"
        },
        {
          "output_type": "stream",
          "text": [
            "\r1it [00:00,  3.73it/s]"
          ],
          "name": "stderr"
        },
        {
          "output_type": "stream",
          "text": [
            "Training Loss per 5000 steps: 0.7029312252998352\n",
            "Training Accuracy per 5000 steps: 50.0\n"
          ],
          "name": "stdout"
        },
        {
          "output_type": "stream",
          "text": [
            "310it [01:25,  3.64it/s]\n",
            "0it [00:00, ?it/s]"
          ],
          "name": "stderr"
        },
        {
          "output_type": "stream",
          "text": [
            "The Total Accuracy for Epoch 3: 30.15744852644328\n",
            "Training Loss Epoch: 0.7362542679232936\n",
            "Training Accuracy Epoch: 30.15744852644328\n",
            "Round: 1... \tAverage Loss: 0.737\n",
            "Round: 1... \tAverage Accuracy: 30.287\n"
          ],
          "name": "stdout"
        },
        {
          "output_type": "stream",
          "text": [
            "\r1it [00:00,  3.76it/s]"
          ],
          "name": "stderr"
        },
        {
          "output_type": "stream",
          "text": [
            "Training Loss per 5000 steps: 0.7336524724960327\n",
            "Training Accuracy per 5000 steps: 37.5\n"
          ],
          "name": "stdout"
        },
        {
          "output_type": "stream",
          "text": [
            "310it [01:25,  3.64it/s]\n",
            "0it [00:00, ?it/s]"
          ],
          "name": "stderr"
        },
        {
          "output_type": "stream",
          "text": [
            "The Total Accuracy for Epoch 1: 30.31893419459023\n",
            "Training Loss Epoch: 0.7362084496405816\n",
            "Training Accuracy Epoch: 30.31893419459023\n"
          ],
          "name": "stdout"
        },
        {
          "output_type": "stream",
          "text": [
            "\r1it [00:00,  3.78it/s]"
          ],
          "name": "stderr"
        },
        {
          "output_type": "stream",
          "text": [
            "Training Loss per 5000 steps: 0.7418780326843262\n",
            "Training Accuracy per 5000 steps: 25.0\n"
          ],
          "name": "stdout"
        },
        {
          "output_type": "stream",
          "text": [
            "310it [01:25,  3.64it/s]\n",
            "0it [00:00, ?it/s]"
          ],
          "name": "stderr"
        },
        {
          "output_type": "stream",
          "text": [
            "The Total Accuracy for Epoch 2: 31.166733952361728\n",
            "Training Loss Epoch: 0.737465549092139\n",
            "Training Accuracy Epoch: 31.166733952361728\n"
          ],
          "name": "stdout"
        },
        {
          "output_type": "stream",
          "text": [
            "\r1it [00:00,  3.70it/s]"
          ],
          "name": "stderr"
        },
        {
          "output_type": "stream",
          "text": [
            "Training Loss per 5000 steps: 0.6980931162834167\n",
            "Training Accuracy per 5000 steps: 37.5\n"
          ],
          "name": "stdout"
        },
        {
          "output_type": "stream",
          "text": [
            "310it [01:25,  3.64it/s]\n",
            "0it [00:00, ?it/s]"
          ],
          "name": "stderr"
        },
        {
          "output_type": "stream",
          "text": [
            "The Total Accuracy for Epoch 3: 30.15744852644328\n",
            "Training Loss Epoch: 0.7367040634155273\n",
            "Training Accuracy Epoch: 30.15744852644328\n"
          ],
          "name": "stdout"
        },
        {
          "output_type": "stream",
          "text": [
            "\r1it [00:00,  3.73it/s]"
          ],
          "name": "stderr"
        },
        {
          "output_type": "stream",
          "text": [
            "Training Loss per 5000 steps: 0.7317876815795898\n",
            "Training Accuracy per 5000 steps: 25.0\n"
          ],
          "name": "stdout"
        },
        {
          "output_type": "stream",
          "text": [
            "310it [01:25,  3.64it/s]\n",
            "0it [00:00, ?it/s]"
          ],
          "name": "stderr"
        },
        {
          "output_type": "stream",
          "text": [
            "The Total Accuracy for Epoch 1: 29.7537343560759\n",
            "Training Loss Epoch: 0.7361845377952821\n",
            "Training Accuracy Epoch: 29.7537343560759\n"
          ],
          "name": "stdout"
        },
        {
          "output_type": "stream",
          "text": [
            "\r1it [00:00,  3.80it/s]"
          ],
          "name": "stderr"
        },
        {
          "output_type": "stream",
          "text": [
            "Training Loss per 5000 steps: 0.7050455808639526\n",
            "Training Accuracy per 5000 steps: 50.0\n"
          ],
          "name": "stdout"
        },
        {
          "output_type": "stream",
          "text": [
            "310it [01:25,  3.64it/s]\n",
            "0it [00:00, ?it/s]"
          ],
          "name": "stderr"
        },
        {
          "output_type": "stream",
          "text": [
            "The Total Accuracy for Epoch 2: 30.440048445700445\n",
            "Training Loss Epoch: 0.7377736241586746\n",
            "Training Accuracy Epoch: 30.440048445700445\n"
          ],
          "name": "stdout"
        },
        {
          "output_type": "stream",
          "text": [
            "\r1it [00:00,  3.75it/s]"
          ],
          "name": "stderr"
        },
        {
          "output_type": "stream",
          "text": [
            "Training Loss per 5000 steps: 0.7665836811065674\n",
            "Training Accuracy per 5000 steps: 12.5\n"
          ],
          "name": "stdout"
        },
        {
          "output_type": "stream",
          "text": [
            "310it [01:25,  3.64it/s]\n",
            "0it [00:00, ?it/s]"
          ],
          "name": "stderr"
        },
        {
          "output_type": "stream",
          "text": [
            "The Total Accuracy for Epoch 3: 31.207105369398466\n",
            "Training Loss Epoch: 0.7365033449665193\n",
            "Training Accuracy Epoch: 31.207105369398466\n"
          ],
          "name": "stdout"
        },
        {
          "output_type": "stream",
          "text": [
            "\r1it [00:00,  3.72it/s]"
          ],
          "name": "stderr"
        },
        {
          "output_type": "stream",
          "text": [
            "Training Loss per 5000 steps: 0.751865029335022\n",
            "Training Accuracy per 5000 steps: 37.5\n"
          ],
          "name": "stdout"
        },
        {
          "output_type": "stream",
          "text": [
            "310it [01:25,  3.63it/s]\n",
            "0it [00:00, ?it/s]"
          ],
          "name": "stderr"
        },
        {
          "output_type": "stream",
          "text": [
            "The Total Accuracy for Epoch 1: 30.682276947920872\n",
            "Training Loss Epoch: 0.735865371265719\n",
            "Training Accuracy Epoch: 30.682276947920872\n"
          ],
          "name": "stdout"
        },
        {
          "output_type": "stream",
          "text": [
            "\r1it [00:00,  3.68it/s]"
          ],
          "name": "stderr"
        },
        {
          "output_type": "stream",
          "text": [
            "Training Loss per 5000 steps: 0.783675491809845\n",
            "Training Accuracy per 5000 steps: 12.5\n"
          ],
          "name": "stdout"
        },
        {
          "output_type": "stream",
          "text": [
            "310it [01:25,  3.64it/s]\n",
            "0it [00:00, ?it/s]"
          ],
          "name": "stderr"
        },
        {
          "output_type": "stream",
          "text": [
            "The Total Accuracy for Epoch 2: 30.197819943480017\n",
            "Training Loss Epoch: 0.7369487018354477\n",
            "Training Accuracy Epoch: 30.197819943480017\n"
          ],
          "name": "stdout"
        },
        {
          "output_type": "stream",
          "text": [
            "\r1it [00:00,  3.80it/s]"
          ],
          "name": "stderr"
        },
        {
          "output_type": "stream",
          "text": [
            "Training Loss per 5000 steps: 0.7362558841705322\n",
            "Training Accuracy per 5000 steps: 37.5\n"
          ],
          "name": "stdout"
        },
        {
          "output_type": "stream",
          "text": [
            "310it [01:25,  3.64it/s]\n",
            "0it [00:00, ?it/s]"
          ],
          "name": "stderr"
        },
        {
          "output_type": "stream",
          "text": [
            "The Total Accuracy for Epoch 3: 29.874848607186113\n",
            "Training Loss Epoch: 0.7380309145296774\n",
            "Training Accuracy Epoch: 29.874848607186113\n"
          ],
          "name": "stdout"
        },
        {
          "output_type": "stream",
          "text": [
            "\r1it [00:00,  3.76it/s]"
          ],
          "name": "stderr"
        },
        {
          "output_type": "stream",
          "text": [
            "Training Loss per 5000 steps: 0.7229701280593872\n",
            "Training Accuracy per 5000 steps: 25.0\n"
          ],
          "name": "stdout"
        },
        {
          "output_type": "stream",
          "text": [
            "310it [01:25,  3.65it/s]\n",
            "0it [00:00, ?it/s]"
          ],
          "name": "stderr"
        },
        {
          "output_type": "stream",
          "text": [
            "The Total Accuracy for Epoch 1: 29.430763019781995\n",
            "Training Loss Epoch: 0.7366443643646855\n",
            "Training Accuracy Epoch: 29.430763019781995\n"
          ],
          "name": "stdout"
        },
        {
          "output_type": "stream",
          "text": [
            "\r1it [00:00,  3.86it/s]"
          ],
          "name": "stderr"
        },
        {
          "output_type": "stream",
          "text": [
            "Training Loss per 5000 steps: 0.7315409183502197\n",
            "Training Accuracy per 5000 steps: 37.5\n"
          ],
          "name": "stdout"
        },
        {
          "output_type": "stream",
          "text": [
            "310it [01:25,  3.64it/s]\n",
            "0it [00:00, ?it/s]"
          ],
          "name": "stderr"
        },
        {
          "output_type": "stream",
          "text": [
            "The Total Accuracy for Epoch 2: 30.56116269681066\n",
            "Training Loss Epoch: 0.7380654402317539\n",
            "Training Accuracy Epoch: 30.56116269681066\n"
          ],
          "name": "stdout"
        },
        {
          "output_type": "stream",
          "text": [
            "\r1it [00:00,  3.77it/s]"
          ],
          "name": "stderr"
        },
        {
          "output_type": "stream",
          "text": [
            "Training Loss per 5000 steps: 0.7332168221473694\n",
            "Training Accuracy per 5000 steps: 25.0\n"
          ],
          "name": "stdout"
        },
        {
          "output_type": "stream",
          "text": [
            "310it [01:25,  3.65it/s]\n",
            "0it [00:00, ?it/s]"
          ],
          "name": "stderr"
        },
        {
          "output_type": "stream",
          "text": [
            "The Total Accuracy for Epoch 3: 30.52079127977392\n",
            "Training Loss Epoch: 0.7363466030166995\n",
            "Training Accuracy Epoch: 30.52079127977392\n"
          ],
          "name": "stdout"
        },
        {
          "output_type": "stream",
          "text": [
            "\r1it [00:00,  3.77it/s]"
          ],
          "name": "stderr"
        },
        {
          "output_type": "stream",
          "text": [
            "Training Loss per 5000 steps: 0.798946738243103\n",
            "Training Accuracy per 5000 steps: 12.5\n"
          ],
          "name": "stdout"
        },
        {
          "output_type": "stream",
          "text": [
            "310it [01:25,  3.64it/s]\n",
            "0it [00:00, ?it/s]"
          ],
          "name": "stderr"
        },
        {
          "output_type": "stream",
          "text": [
            "The Total Accuracy for Epoch 1: 30.641905530884134\n",
            "Training Loss Epoch: 0.7346197384019052\n",
            "Training Accuracy Epoch: 30.641905530884134\n"
          ],
          "name": "stdout"
        },
        {
          "output_type": "stream",
          "text": [
            "\r1it [00:00,  3.72it/s]"
          ],
          "name": "stderr"
        },
        {
          "output_type": "stream",
          "text": [
            "Training Loss per 5000 steps: 0.6912280321121216\n",
            "Training Accuracy per 5000 steps: 37.5\n"
          ],
          "name": "stdout"
        },
        {
          "output_type": "stream",
          "text": [
            "310it [01:25,  3.64it/s]\n",
            "0it [00:00, ?it/s]"
          ],
          "name": "stderr"
        },
        {
          "output_type": "stream",
          "text": [
            "The Total Accuracy for Epoch 2: 30.15744852644328\n",
            "Training Loss Epoch: 0.7374591427464638\n",
            "Training Accuracy Epoch: 30.15744852644328\n"
          ],
          "name": "stdout"
        },
        {
          "output_type": "stream",
          "text": [
            "\r1it [00:00,  3.80it/s]"
          ],
          "name": "stderr"
        },
        {
          "output_type": "stream",
          "text": [
            "Training Loss per 5000 steps: 0.7169172763824463\n",
            "Training Accuracy per 5000 steps: 25.0\n"
          ],
          "name": "stdout"
        },
        {
          "output_type": "stream",
          "text": [
            "310it [01:25,  3.64it/s]\n",
            "0it [00:00, ?it/s]"
          ],
          "name": "stderr"
        },
        {
          "output_type": "stream",
          "text": [
            "The Total Accuracy for Epoch 3: 30.964876867178038\n",
            "Training Loss Epoch: 0.7366842241056504\n",
            "Training Accuracy Epoch: 30.964876867178038\n",
            "Round: 2... \tAverage Loss: 0.737\n",
            "Round: 2... \tAverage Accuracy: 30.545\n"
          ],
          "name": "stdout"
        },
        {
          "output_type": "stream",
          "text": [
            "\r1it [00:00,  3.79it/s]"
          ],
          "name": "stderr"
        },
        {
          "output_type": "stream",
          "text": [
            "Training Loss per 5000 steps: 0.7415284514427185\n",
            "Training Accuracy per 5000 steps: 0.0\n"
          ],
          "name": "stdout"
        },
        {
          "output_type": "stream",
          "text": [
            "310it [01:25,  3.64it/s]\n",
            "0it [00:00, ?it/s]"
          ],
          "name": "stderr"
        },
        {
          "output_type": "stream",
          "text": [
            "The Total Accuracy for Epoch 1: 30.884134033104562\n",
            "Training Loss Epoch: 0.7358292706551091\n",
            "Training Accuracy Epoch: 30.884134033104562\n"
          ],
          "name": "stdout"
        },
        {
          "output_type": "stream",
          "text": [
            "\r1it [00:00,  3.73it/s]"
          ],
          "name": "stderr"
        },
        {
          "output_type": "stream",
          "text": [
            "Training Loss per 5000 steps: 0.745255172252655\n",
            "Training Accuracy per 5000 steps: 25.0\n"
          ],
          "name": "stdout"
        },
        {
          "output_type": "stream",
          "text": [
            "310it [01:25,  3.64it/s]\n",
            "0it [00:00, ?it/s]"
          ],
          "name": "stderr"
        },
        {
          "output_type": "stream",
          "text": [
            "The Total Accuracy for Epoch 2: 30.601534113847396\n",
            "Training Loss Epoch: 0.7364031958964563\n",
            "Training Accuracy Epoch: 30.601534113847396\n"
          ],
          "name": "stdout"
        },
        {
          "output_type": "stream",
          "text": [
            "\r1it [00:00,  3.72it/s]"
          ],
          "name": "stderr"
        },
        {
          "output_type": "stream",
          "text": [
            "Training Loss per 5000 steps: 0.7863683700561523\n",
            "Training Accuracy per 5000 steps: 12.5\n"
          ],
          "name": "stdout"
        },
        {
          "output_type": "stream",
          "text": [
            "310it [01:25,  3.64it/s]\n",
            "0it [00:00, ?it/s]"
          ],
          "name": "stderr"
        },
        {
          "output_type": "stream",
          "text": [
            "The Total Accuracy for Epoch 3: 29.471134436818733\n",
            "Training Loss Epoch: 0.736509241596345\n",
            "Training Accuracy Epoch: 29.471134436818733\n"
          ],
          "name": "stdout"
        },
        {
          "output_type": "stream",
          "text": [
            "\r1it [00:00,  3.77it/s]"
          ],
          "name": "stderr"
        },
        {
          "output_type": "stream",
          "text": [
            "Training Loss per 5000 steps: 0.7248131036758423\n",
            "Training Accuracy per 5000 steps: 25.0\n"
          ],
          "name": "stdout"
        },
        {
          "output_type": "stream",
          "text": [
            "310it [01:25,  3.64it/s]\n",
            "0it [00:00, ?it/s]"
          ],
          "name": "stderr"
        },
        {
          "output_type": "stream",
          "text": [
            "The Total Accuracy for Epoch 1: 30.197819943480017\n",
            "Training Loss Epoch: 0.7353573560714721\n",
            "Training Accuracy Epoch: 30.197819943480017\n"
          ],
          "name": "stdout"
        },
        {
          "output_type": "stream",
          "text": [
            "\r1it [00:00,  3.74it/s]"
          ],
          "name": "stderr"
        },
        {
          "output_type": "stream",
          "text": [
            "Training Loss per 5000 steps: 0.7315038442611694\n",
            "Training Accuracy per 5000 steps: 25.0\n"
          ],
          "name": "stdout"
        },
        {
          "output_type": "stream",
          "text": [
            "310it [01:25,  3.64it/s]\n",
            "0it [00:00, ?it/s]"
          ],
          "name": "stderr"
        },
        {
          "output_type": "stream",
          "text": [
            "The Total Accuracy for Epoch 2: 31.045619701251514\n",
            "Training Loss Epoch: 0.735545160501234\n",
            "Training Accuracy Epoch: 31.045619701251514\n"
          ],
          "name": "stdout"
        },
        {
          "output_type": "stream",
          "text": [
            "\r1it [00:00,  3.77it/s]"
          ],
          "name": "stderr"
        },
        {
          "output_type": "stream",
          "text": [
            "Training Loss per 5000 steps: 0.734900712966919\n",
            "Training Accuracy per 5000 steps: 0.0\n"
          ],
          "name": "stdout"
        },
        {
          "output_type": "stream",
          "text": [
            "310it [01:25,  3.64it/s]\n",
            "0it [00:00, ?it/s]"
          ],
          "name": "stderr"
        },
        {
          "output_type": "stream",
          "text": [
            "The Total Accuracy for Epoch 3: 30.72264836495761\n",
            "Training Loss Epoch: 0.7377113138475726\n",
            "Training Accuracy Epoch: 30.72264836495761\n"
          ],
          "name": "stdout"
        },
        {
          "output_type": "stream",
          "text": [
            "\r1it [00:00,  3.79it/s]"
          ],
          "name": "stderr"
        },
        {
          "output_type": "stream",
          "text": [
            "Training Loss per 5000 steps: 0.6842734217643738\n",
            "Training Accuracy per 5000 steps: 50.0\n"
          ],
          "name": "stdout"
        },
        {
          "output_type": "stream",
          "text": [
            "310it [01:25,  3.64it/s]\n",
            "0it [00:00, ?it/s]"
          ],
          "name": "stderr"
        },
        {
          "output_type": "stream",
          "text": [
            "The Total Accuracy for Epoch 1: 30.480419862737183\n",
            "Training Loss Epoch: 0.7365362515372614\n",
            "Training Accuracy Epoch: 30.480419862737183\n"
          ],
          "name": "stdout"
        },
        {
          "output_type": "stream",
          "text": [
            "\r1it [00:00,  3.78it/s]"
          ],
          "name": "stderr"
        },
        {
          "output_type": "stream",
          "text": [
            "Training Loss per 5000 steps: 0.7473923563957214\n",
            "Training Accuracy per 5000 steps: 37.5\n"
          ],
          "name": "stdout"
        },
        {
          "output_type": "stream",
          "text": [
            "310it [01:25,  3.63it/s]\n",
            "0it [00:00, ?it/s]"
          ],
          "name": "stderr"
        },
        {
          "output_type": "stream",
          "text": [
            "The Total Accuracy for Epoch 2: 30.56116269681066\n",
            "Training Loss Epoch: 0.7364589919967036\n",
            "Training Accuracy Epoch: 30.56116269681066\n"
          ],
          "name": "stdout"
        },
        {
          "output_type": "stream",
          "text": [
            "\r1it [00:00,  3.83it/s]"
          ],
          "name": "stderr"
        },
        {
          "output_type": "stream",
          "text": [
            "Training Loss per 5000 steps: 0.7601798176765442\n",
            "Training Accuracy per 5000 steps: 12.5\n"
          ],
          "name": "stdout"
        },
        {
          "output_type": "stream",
          "text": [
            "310it [01:25,  3.63it/s]\n",
            "0it [00:00, ?it/s]"
          ],
          "name": "stderr"
        },
        {
          "output_type": "stream",
          "text": [
            "The Total Accuracy for Epoch 3: 30.399677028663707\n",
            "Training Loss Epoch: 0.7370324888537007\n",
            "Training Accuracy Epoch: 30.399677028663707\n"
          ],
          "name": "stdout"
        },
        {
          "output_type": "stream",
          "text": [
            "\r1it [00:00,  3.75it/s]"
          ],
          "name": "stderr"
        },
        {
          "output_type": "stream",
          "text": [
            "Training Loss per 5000 steps: 0.751007080078125\n",
            "Training Accuracy per 5000 steps: 25.0\n"
          ],
          "name": "stdout"
        },
        {
          "output_type": "stream",
          "text": [
            "310it [01:25,  3.64it/s]\n",
            "0it [00:00, ?it/s]"
          ],
          "name": "stderr"
        },
        {
          "output_type": "stream",
          "text": [
            "The Total Accuracy for Epoch 1: 30.9245054501413\n",
            "Training Loss Epoch: 0.7357388825185838\n",
            "Training Accuracy Epoch: 30.9245054501413\n"
          ],
          "name": "stdout"
        },
        {
          "output_type": "stream",
          "text": [
            "\r1it [00:00,  3.78it/s]"
          ],
          "name": "stderr"
        },
        {
          "output_type": "stream",
          "text": [
            "Training Loss per 5000 steps: 0.7722361087799072\n",
            "Training Accuracy per 5000 steps: 12.5\n"
          ],
          "name": "stdout"
        },
        {
          "output_type": "stream",
          "text": [
            "310it [01:25,  3.64it/s]\n",
            "0it [00:00, ?it/s]"
          ],
          "name": "stderr"
        },
        {
          "output_type": "stream",
          "text": [
            "The Total Accuracy for Epoch 2: 30.52079127977392\n",
            "Training Loss Epoch: 0.73608440391479\n",
            "Training Accuracy Epoch: 30.52079127977392\n"
          ],
          "name": "stdout"
        },
        {
          "output_type": "stream",
          "text": [
            "\r1it [00:00,  3.80it/s]"
          ],
          "name": "stderr"
        },
        {
          "output_type": "stream",
          "text": [
            "Training Loss per 5000 steps: 0.7385095953941345\n",
            "Training Accuracy per 5000 steps: 37.5\n"
          ],
          "name": "stdout"
        },
        {
          "output_type": "stream",
          "text": [
            "310it [01:25,  3.64it/s]\n",
            "0it [00:00, ?it/s]"
          ],
          "name": "stderr"
        },
        {
          "output_type": "stream",
          "text": [
            "The Total Accuracy for Epoch 3: 30.682276947920872\n",
            "Training Loss Epoch: 0.7365018419681056\n",
            "Training Accuracy Epoch: 30.682276947920872\n"
          ],
          "name": "stdout"
        },
        {
          "output_type": "stream",
          "text": [
            "\r1it [00:00,  3.76it/s]"
          ],
          "name": "stderr"
        },
        {
          "output_type": "stream",
          "text": [
            "Training Loss per 5000 steps: 0.7317200303077698\n",
            "Training Accuracy per 5000 steps: 25.0\n"
          ],
          "name": "stdout"
        },
        {
          "output_type": "stream",
          "text": [
            "310it [01:25,  3.64it/s]\n",
            "0it [00:00, ?it/s]"
          ],
          "name": "stderr"
        },
        {
          "output_type": "stream",
          "text": [
            "The Total Accuracy for Epoch 1: 29.7537343560759\n",
            "Training Loss Epoch: 0.7361692653548333\n",
            "Training Accuracy Epoch: 29.7537343560759\n"
          ],
          "name": "stdout"
        },
        {
          "output_type": "stream",
          "text": [
            "\r1it [00:00,  3.77it/s]"
          ],
          "name": "stderr"
        },
        {
          "output_type": "stream",
          "text": [
            "Training Loss per 5000 steps: 0.7187443375587463\n",
            "Training Accuracy per 5000 steps: 25.0\n"
          ],
          "name": "stdout"
        },
        {
          "output_type": "stream",
          "text": [
            "310it [01:25,  3.64it/s]\n",
            "0it [00:00, ?it/s]"
          ],
          "name": "stderr"
        },
        {
          "output_type": "stream",
          "text": [
            "The Total Accuracy for Epoch 2: 29.874848607186113\n",
            "Training Loss Epoch: 0.7370857173396695\n",
            "Training Accuracy Epoch: 29.874848607186113\n"
          ],
          "name": "stdout"
        },
        {
          "output_type": "stream",
          "text": [
            "\r1it [00:00,  3.67it/s]"
          ],
          "name": "stderr"
        },
        {
          "output_type": "stream",
          "text": [
            "Training Loss per 5000 steps: 0.7127504944801331\n",
            "Training Accuracy per 5000 steps: 25.0\n"
          ],
          "name": "stdout"
        },
        {
          "output_type": "stream",
          "text": [
            "310it [01:25,  3.63it/s]\n"
          ],
          "name": "stderr"
        },
        {
          "output_type": "stream",
          "text": [
            "The Total Accuracy for Epoch 3: 31.53007670569237\n",
            "Training Loss Epoch: 0.7361879283382047\n",
            "Training Accuracy Epoch: 31.53007670569237\n",
            "Round: 3... \tAverage Loss: 0.737\n",
            "Round: 3... \tAverage Accuracy: 30.561\n",
            "Training Done!\n",
            "Total time taken to Train: 3835.130675792694\n"
          ],
          "name": "stdout"
        },
        {
          "output_type": "display_data",
          "data": {
            "image/png": "[encoded data removed]",
            "text/plain": [
              "<Figure size 432x288 with 1 Axes>"
            ]
          },
          "metadata": {
            "tags": [],
            "needs_background": "light"
          }
        }
      ]
    },
    {
      "cell_type": "code",
      "metadata": {
        "id": "oHxP3pkx5v-K",
        "colab": {
          "base_uri": "https://localhost:8080/"
        },
        "outputId": "ea375b6e-c793-40fd-90c8-3608f72a1e5e"
      },
      "source": [
        "print('This is the validation section to print the accuracy and see how it performs')\n",
        "print('Here we are leveraging on the dataloader crearted for the validation dataset, the approcah is using more of pytorch')\n",
        "\n",
        "acc = valid(bert_non_iid_trained, testing_loader, loss_function)\n",
        "print(\"Accuracy on test data = %0.2f%%\" % acc)\n",
        "\n",
        "\n",
        "d['train_acc'] = train_acc\n",
        "d['test_acc'] = acc\n",
        "\n",
        "\n",
        "with open(f'/content/drive/My Drive/Albert/Sexual_Harassment/DPFLALBERT_Harassment_eps0_5_noniid.pkl', 'wb') as file:\n",
        "  pickle.dump(d, file)"
      ],
      "execution_count": null,
      "outputs": [
        {
          "output_type": "stream",
          "text": [
            "2it [00:00, 11.96it/s]"
          ],
          "name": "stderr"
        },
        {
          "output_type": "stream",
          "text": [
            "This is the validation section to print the accuracy and see how it performs\n",
            "Here we are leveraging on the dataloader crearted for the validation dataset, the approcah is using more of pytorch\n",
            "Validation Loss per 100 steps: 0.6576423048973083\n",
            "Validation Accuracy per 100 steps: 50.0\n"
          ],
          "name": "stdout"
        },
        {
          "output_type": "stream",
          "text": [
            "310it [00:23, 13.33it/s]"
          ],
          "name": "stderr"
        },
        {
          "output_type": "stream",
          "text": [
            "Validation Loss Epoch: 0.73312256893804\n",
            "Validation Accuracy Epoch: 31.34087237479806\n",
            "Accuracy on test data = 31.34%\n"
          ],
          "name": "stdout"
        },
        {
          "output_type": "stream",
          "text": [
            "\n"
          ],
          "name": "stderr"
        }
      ]
    },
    {
      "cell_type": "code",
      "metadata": {
        "id": "iUIsUxojzN0Q"
      },
      "source": [
        ""
      ],
      "execution_count": null,
      "outputs": []
    }
  ]
}